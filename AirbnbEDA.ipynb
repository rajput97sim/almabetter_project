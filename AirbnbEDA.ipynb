{
  "cells": [
    {
      "cell_type": "markdown",
      "metadata": {
        "id": "view-in-github",
        "colab_type": "text"
      },
      "source": [
        "<a href=\"https://colab.research.google.com/github/rajput97sim/almabetter_project/blob/main/AirbnbEDA.ipynb\" target=\"_parent\"><img src=\"https://colab.research.google.com/assets/colab-badge.svg\" alt=\"Open In Colab\"/></a>"
      ]
    },
    {
      "cell_type": "markdown",
      "metadata": {
        "id": "pDh5RSCOLF6w"
      },
      "source": [
        "<font size='10'>**Project Name - AirBnb Bookings Analysis**</font>\n",
        "<br>Project Type - Exploratory Data Analysis\n",
        "<br>Contribution - Individual\n",
        "<br>Created by - Simran Rajput\n",
        "\n"
      ]
    },
    {
      "cell_type": "markdown",
      "source": [
        "<font size='10'>**Github**</font></br>\n",
        "https://github.com/rajput97sim/almabetter_project/blob/main/AirbnbEDA.ipynb"
      ],
      "metadata": {
        "id": "npWOkLp-uun7"
      }
    },
    {
      "cell_type": "markdown",
      "metadata": {
        "id": "5y7TXZH_NpzM"
      },
      "source": [
        "<font size='10'>**Introduction**</font>"
      ]
    },
    {
      "cell_type": "markdown",
      "metadata": {
        "id": "hz-gOCKw-Tnj"
      },
      "source": [
        "<font size='3'>Since its inception in 2008, Airbnb has revolutionized the way people travel and has ushered in a new era of personalized and unique travel experiences. Today, Airbnb stands as a global phenomenon, offering travelers a one-of-a-kind service that has transformed the way people explore the world. At the heart of Airbnb's success lies its vast database of listings, which spans millions of unique accommodations worldwide. This treasure trove of data is not merely a collection of numbers and statistics; it is a valuable resource that underpins critical aspects of the company's operations.\n",
        "\n",
        "With millions of listings, Airbnb generates an immense volume of data, and the analysis of this data plays a pivotal role in shaping the company's strategies and decision-making processes. The dataset encompasses an impressive 49,000 observations, featuring 16 columns that encompass a diverse range of data types, from categorical to numeric.</font>"
      ]
    },
    {
      "cell_type": "markdown",
      "metadata": {
        "id": "9Z0xZ6CcBHwi"
      },
      "source": [
        "<font size='8'>**Business Objective**<br>\n",
        "<font size='3'>1.What are the most common types of properties listed by hosts on Airbnb ?<br>\n",
        "2.Among all the neighborhoods, which specific neighborhoods or areas attract the highest number of bookings and guest interest?<br>\n",
        "3.Where are the areas with the maximum traffic? How can we strategically leverage these areas for business growth and expansion?<br>\n",
        "4.What is the ideal pricing range for different room types and locations that align with customer preferences and market demand?<br>\n",
        "5.Who are the hosts whose properties receive the most reviews and positive ratings from guests? How can we provide extra benefits to these top-performing hosts to support their growth and enhance the overall Airbnb experience?<br>"
      ]
    },
    {
      "cell_type": "markdown",
      "metadata": {
        "id": "ZSilAULf-2xQ"
      },
      "source": [
        "<font size='8'>**General Guidelines : -**<br>\n",
        "<font size='3'>Well-structured, formatted, and commented code is required.\n",
        "\n",
        "Exception Handling, Production Grade Code & Deployment Ready Code will be a plus. Those students will be awarded some additional credits.\n",
        "\n",
        "The additional credits will have advantages over other students during Star Student selection.\n",
        "\n",
        "    [ Note: - Deployment Ready Code is defined as, the whole .ipynb notebook should be executable in one go\n",
        "              without a single error logged. ]\n",
        "\n",
        "Each and every logic should have proper comments.\n",
        "\n",
        "You may add as many number of charts you want. Make Sure for each and every chart the following format should be answered.\n",
        "\n",
        "# Chart visualization code\n",
        "Why did you pick the specific chart?\n",
        "What is/are the insight(s) found from the chart?\n",
        "Will the gained insights help creating a positive business impact?\n",
        "Are there any insights that lead to negative growth? Justify with specific reason.\n",
        "\n",
        "You have to create at least 20 logical & meaningful charts having important insights.\n",
        "[ Hints : - Do the Vizualization in a structured way while following \"UBM\" Rule.\n",
        "\n",
        "U - Univariate Analysis,\n",
        "\n",
        "B - Bivariate Analysis (Numerical - Categorical, Numerical - Numerical, Categorical - Categorical)\n",
        "\n",
        "M - Multivariate Analysis ]\n",
        "</font>"
      ]
    },
    {
      "cell_type": "markdown",
      "metadata": {
        "id": "OWlXJNRTmcer"
      },
      "source": [
        "<font size='8'>**Import libraries**</font>"
      ]
    },
    {
      "cell_type": "code",
      "source": [
        "from google.colab import drive"
      ],
      "metadata": {
        "id": "shFYUUXt8OLm"
      },
      "execution_count": 144,
      "outputs": []
    },
    {
      "cell_type": "code",
      "source": [
        "drive.mount('/content/drive')"
      ],
      "metadata": {
        "colab": {
          "base_uri": "https://localhost:8080/"
        },
        "id": "fHCwqT728VE0",
        "outputId": "e35f19e6-6bf0-4eac-c168-362a5c4efb4a"
      },
      "execution_count": 145,
      "outputs": [
        {
          "output_type": "stream",
          "name": "stdout",
          "text": [
            "Drive already mounted at /content/drive; to attempt to forcibly remount, call drive.mount(\"/content/drive\", force_remount=True).\n"
          ]
        }
      ]
    },
    {
      "cell_type": "code",
      "execution_count": 146,
      "metadata": {
        "id": "AwBRK6TWzwgz"
      },
      "outputs": [],
      "source": [
        "#Import libraries\n",
        "import numpy as np\n",
        "import pandas as pd\n",
        "import matplotlib.pyplot as plt\n",
        "import seaborn as sns\n"
      ]
    },
    {
      "cell_type": "markdown",
      "metadata": {
        "id": "II3S6cp1mqn5"
      },
      "source": [
        "<font size='5'>Dataset Loading</font>"
      ]
    },
    {
      "cell_type": "code",
      "execution_count": 147,
      "metadata": {
        "id": "t9S8FyUZ0ICl"
      },
      "outputs": [],
      "source": [
        "#Load Dataset\n",
        "df=pd.read_csv('/content/drive/MyDrive/Data/Airbnb NYC 2019.csv')"
      ]
    },
    {
      "cell_type": "markdown",
      "metadata": {
        "id": "qTdQafCWnCiv"
      },
      "source": [
        "<font size='8'>**Dataset First View**</font>"
      ]
    },
    {
      "cell_type": "code",
      "execution_count": 148,
      "metadata": {
        "id": "pwGawWVk0m1b",
        "colab": {
          "base_uri": "https://localhost:8080/",
          "height": 417
        },
        "outputId": "12a16781-8ed1-4e23-9b19-9b67d83d5cfc"
      },
      "outputs": [
        {
          "output_type": "execute_result",
          "data": {
            "text/plain": [
              "     id                                              name  host_id  \\\n",
              "0  2539                Clean & quiet apt home by the park     2787   \n",
              "1  2595                             Skylit Midtown Castle     2845   \n",
              "2  3647               THE VILLAGE OF HARLEM....NEW YORK !     4632   \n",
              "3  3831                   Cozy Entire Floor of Brownstone     4869   \n",
              "4  5022  Entire Apt: Spacious Studio/Loft by central park     7192   \n",
              "\n",
              "     host_name neighbourhood_group neighbourhood  latitude  longitude  \\\n",
              "0         John            Brooklyn    Kensington  40.64749  -73.97237   \n",
              "1     Jennifer           Manhattan       Midtown  40.75362  -73.98377   \n",
              "2    Elisabeth           Manhattan        Harlem  40.80902  -73.94190   \n",
              "3  LisaRoxanne            Brooklyn  Clinton Hill  40.68514  -73.95976   \n",
              "4        Laura           Manhattan   East Harlem  40.79851  -73.94399   \n",
              "\n",
              "         room_type  price  minimum_nights  number_of_reviews last_review  \\\n",
              "0     Private room    149               1                  9  2018-10-19   \n",
              "1  Entire home/apt    225               1                 45  2019-05-21   \n",
              "2     Private room    150               3                  0         NaN   \n",
              "3  Entire home/apt     89               1                270  2019-07-05   \n",
              "4  Entire home/apt     80              10                  9  2018-11-19   \n",
              "\n",
              "   reviews_per_month  calculated_host_listings_count  availability_365  \n",
              "0               0.21                               6               365  \n",
              "1               0.38                               2               355  \n",
              "2                NaN                               1               365  \n",
              "3               4.64                               1               194  \n",
              "4               0.10                               1                 0  "
            ],
            "text/html": [
              "\n",
              "  <div id=\"df-9c941011-a59a-4c51-a9c7-53923106ad44\" class=\"colab-df-container\">\n",
              "    <div>\n",
              "<style scoped>\n",
              "    .dataframe tbody tr th:only-of-type {\n",
              "        vertical-align: middle;\n",
              "    }\n",
              "\n",
              "    .dataframe tbody tr th {\n",
              "        vertical-align: top;\n",
              "    }\n",
              "\n",
              "    .dataframe thead th {\n",
              "        text-align: right;\n",
              "    }\n",
              "</style>\n",
              "<table border=\"1\" class=\"dataframe\">\n",
              "  <thead>\n",
              "    <tr style=\"text-align: right;\">\n",
              "      <th></th>\n",
              "      <th>id</th>\n",
              "      <th>name</th>\n",
              "      <th>host_id</th>\n",
              "      <th>host_name</th>\n",
              "      <th>neighbourhood_group</th>\n",
              "      <th>neighbourhood</th>\n",
              "      <th>latitude</th>\n",
              "      <th>longitude</th>\n",
              "      <th>room_type</th>\n",
              "      <th>price</th>\n",
              "      <th>minimum_nights</th>\n",
              "      <th>number_of_reviews</th>\n",
              "      <th>last_review</th>\n",
              "      <th>reviews_per_month</th>\n",
              "      <th>calculated_host_listings_count</th>\n",
              "      <th>availability_365</th>\n",
              "    </tr>\n",
              "  </thead>\n",
              "  <tbody>\n",
              "    <tr>\n",
              "      <th>0</th>\n",
              "      <td>2539</td>\n",
              "      <td>Clean &amp; quiet apt home by the park</td>\n",
              "      <td>2787</td>\n",
              "      <td>John</td>\n",
              "      <td>Brooklyn</td>\n",
              "      <td>Kensington</td>\n",
              "      <td>40.64749</td>\n",
              "      <td>-73.97237</td>\n",
              "      <td>Private room</td>\n",
              "      <td>149</td>\n",
              "      <td>1</td>\n",
              "      <td>9</td>\n",
              "      <td>2018-10-19</td>\n",
              "      <td>0.21</td>\n",
              "      <td>6</td>\n",
              "      <td>365</td>\n",
              "    </tr>\n",
              "    <tr>\n",
              "      <th>1</th>\n",
              "      <td>2595</td>\n",
              "      <td>Skylit Midtown Castle</td>\n",
              "      <td>2845</td>\n",
              "      <td>Jennifer</td>\n",
              "      <td>Manhattan</td>\n",
              "      <td>Midtown</td>\n",
              "      <td>40.75362</td>\n",
              "      <td>-73.98377</td>\n",
              "      <td>Entire home/apt</td>\n",
              "      <td>225</td>\n",
              "      <td>1</td>\n",
              "      <td>45</td>\n",
              "      <td>2019-05-21</td>\n",
              "      <td>0.38</td>\n",
              "      <td>2</td>\n",
              "      <td>355</td>\n",
              "    </tr>\n",
              "    <tr>\n",
              "      <th>2</th>\n",
              "      <td>3647</td>\n",
              "      <td>THE VILLAGE OF HARLEM....NEW YORK !</td>\n",
              "      <td>4632</td>\n",
              "      <td>Elisabeth</td>\n",
              "      <td>Manhattan</td>\n",
              "      <td>Harlem</td>\n",
              "      <td>40.80902</td>\n",
              "      <td>-73.94190</td>\n",
              "      <td>Private room</td>\n",
              "      <td>150</td>\n",
              "      <td>3</td>\n",
              "      <td>0</td>\n",
              "      <td>NaN</td>\n",
              "      <td>NaN</td>\n",
              "      <td>1</td>\n",
              "      <td>365</td>\n",
              "    </tr>\n",
              "    <tr>\n",
              "      <th>3</th>\n",
              "      <td>3831</td>\n",
              "      <td>Cozy Entire Floor of Brownstone</td>\n",
              "      <td>4869</td>\n",
              "      <td>LisaRoxanne</td>\n",
              "      <td>Brooklyn</td>\n",
              "      <td>Clinton Hill</td>\n",
              "      <td>40.68514</td>\n",
              "      <td>-73.95976</td>\n",
              "      <td>Entire home/apt</td>\n",
              "      <td>89</td>\n",
              "      <td>1</td>\n",
              "      <td>270</td>\n",
              "      <td>2019-07-05</td>\n",
              "      <td>4.64</td>\n",
              "      <td>1</td>\n",
              "      <td>194</td>\n",
              "    </tr>\n",
              "    <tr>\n",
              "      <th>4</th>\n",
              "      <td>5022</td>\n",
              "      <td>Entire Apt: Spacious Studio/Loft by central park</td>\n",
              "      <td>7192</td>\n",
              "      <td>Laura</td>\n",
              "      <td>Manhattan</td>\n",
              "      <td>East Harlem</td>\n",
              "      <td>40.79851</td>\n",
              "      <td>-73.94399</td>\n",
              "      <td>Entire home/apt</td>\n",
              "      <td>80</td>\n",
              "      <td>10</td>\n",
              "      <td>9</td>\n",
              "      <td>2018-11-19</td>\n",
              "      <td>0.10</td>\n",
              "      <td>1</td>\n",
              "      <td>0</td>\n",
              "    </tr>\n",
              "  </tbody>\n",
              "</table>\n",
              "</div>\n",
              "    <div class=\"colab-df-buttons\">\n",
              "\n",
              "  <div class=\"colab-df-container\">\n",
              "    <button class=\"colab-df-convert\" onclick=\"convertToInteractive('df-9c941011-a59a-4c51-a9c7-53923106ad44')\"\n",
              "            title=\"Convert this dataframe to an interactive table.\"\n",
              "            style=\"display:none;\">\n",
              "\n",
              "  <svg xmlns=\"http://www.w3.org/2000/svg\" height=\"24px\" viewBox=\"0 -960 960 960\">\n",
              "    <path d=\"M120-120v-720h720v720H120Zm60-500h600v-160H180v160Zm220 220h160v-160H400v160Zm0 220h160v-160H400v160ZM180-400h160v-160H180v160Zm440 0h160v-160H620v160ZM180-180h160v-160H180v160Zm440 0h160v-160H620v160Z\"/>\n",
              "  </svg>\n",
              "    </button>\n",
              "\n",
              "  <style>\n",
              "    .colab-df-container {\n",
              "      display:flex;\n",
              "      gap: 12px;\n",
              "    }\n",
              "\n",
              "    .colab-df-convert {\n",
              "      background-color: #E8F0FE;\n",
              "      border: none;\n",
              "      border-radius: 50%;\n",
              "      cursor: pointer;\n",
              "      display: none;\n",
              "      fill: #1967D2;\n",
              "      height: 32px;\n",
              "      padding: 0 0 0 0;\n",
              "      width: 32px;\n",
              "    }\n",
              "\n",
              "    .colab-df-convert:hover {\n",
              "      background-color: #E2EBFA;\n",
              "      box-shadow: 0px 1px 2px rgba(60, 64, 67, 0.3), 0px 1px 3px 1px rgba(60, 64, 67, 0.15);\n",
              "      fill: #174EA6;\n",
              "    }\n",
              "\n",
              "    .colab-df-buttons div {\n",
              "      margin-bottom: 4px;\n",
              "    }\n",
              "\n",
              "    [theme=dark] .colab-df-convert {\n",
              "      background-color: #3B4455;\n",
              "      fill: #D2E3FC;\n",
              "    }\n",
              "\n",
              "    [theme=dark] .colab-df-convert:hover {\n",
              "      background-color: #434B5C;\n",
              "      box-shadow: 0px 1px 3px 1px rgba(0, 0, 0, 0.15);\n",
              "      filter: drop-shadow(0px 1px 2px rgba(0, 0, 0, 0.3));\n",
              "      fill: #FFFFFF;\n",
              "    }\n",
              "  </style>\n",
              "\n",
              "    <script>\n",
              "      const buttonEl =\n",
              "        document.querySelector('#df-9c941011-a59a-4c51-a9c7-53923106ad44 button.colab-df-convert');\n",
              "      buttonEl.style.display =\n",
              "        google.colab.kernel.accessAllowed ? 'block' : 'none';\n",
              "\n",
              "      async function convertToInteractive(key) {\n",
              "        const element = document.querySelector('#df-9c941011-a59a-4c51-a9c7-53923106ad44');\n",
              "        const dataTable =\n",
              "          await google.colab.kernel.invokeFunction('convertToInteractive',\n",
              "                                                    [key], {});\n",
              "        if (!dataTable) return;\n",
              "\n",
              "        const docLinkHtml = 'Like what you see? Visit the ' +\n",
              "          '<a target=\"_blank\" href=https://colab.research.google.com/notebooks/data_table.ipynb>data table notebook</a>'\n",
              "          + ' to learn more about interactive tables.';\n",
              "        element.innerHTML = '';\n",
              "        dataTable['output_type'] = 'display_data';\n",
              "        await google.colab.output.renderOutput(dataTable, element);\n",
              "        const docLink = document.createElement('div');\n",
              "        docLink.innerHTML = docLinkHtml;\n",
              "        element.appendChild(docLink);\n",
              "      }\n",
              "    </script>\n",
              "  </div>\n",
              "\n",
              "\n",
              "<div id=\"df-482342e9-2262-4890-8907-189d5e64b2e8\">\n",
              "  <button class=\"colab-df-quickchart\" onclick=\"quickchart('df-482342e9-2262-4890-8907-189d5e64b2e8')\"\n",
              "            title=\"Suggest charts\"\n",
              "            style=\"display:none;\">\n",
              "\n",
              "<svg xmlns=\"http://www.w3.org/2000/svg\" height=\"24px\"viewBox=\"0 0 24 24\"\n",
              "     width=\"24px\">\n",
              "    <g>\n",
              "        <path d=\"M19 3H5c-1.1 0-2 .9-2 2v14c0 1.1.9 2 2 2h14c1.1 0 2-.9 2-2V5c0-1.1-.9-2-2-2zM9 17H7v-7h2v7zm4 0h-2V7h2v10zm4 0h-2v-4h2v4z\"/>\n",
              "    </g>\n",
              "</svg>\n",
              "  </button>\n",
              "\n",
              "<style>\n",
              "  .colab-df-quickchart {\n",
              "      --bg-color: #E8F0FE;\n",
              "      --fill-color: #1967D2;\n",
              "      --hover-bg-color: #E2EBFA;\n",
              "      --hover-fill-color: #174EA6;\n",
              "      --disabled-fill-color: #AAA;\n",
              "      --disabled-bg-color: #DDD;\n",
              "  }\n",
              "\n",
              "  [theme=dark] .colab-df-quickchart {\n",
              "      --bg-color: #3B4455;\n",
              "      --fill-color: #D2E3FC;\n",
              "      --hover-bg-color: #434B5C;\n",
              "      --hover-fill-color: #FFFFFF;\n",
              "      --disabled-bg-color: #3B4455;\n",
              "      --disabled-fill-color: #666;\n",
              "  }\n",
              "\n",
              "  .colab-df-quickchart {\n",
              "    background-color: var(--bg-color);\n",
              "    border: none;\n",
              "    border-radius: 50%;\n",
              "    cursor: pointer;\n",
              "    display: none;\n",
              "    fill: var(--fill-color);\n",
              "    height: 32px;\n",
              "    padding: 0;\n",
              "    width: 32px;\n",
              "  }\n",
              "\n",
              "  .colab-df-quickchart:hover {\n",
              "    background-color: var(--hover-bg-color);\n",
              "    box-shadow: 0 1px 2px rgba(60, 64, 67, 0.3), 0 1px 3px 1px rgba(60, 64, 67, 0.15);\n",
              "    fill: var(--button-hover-fill-color);\n",
              "  }\n",
              "\n",
              "  .colab-df-quickchart-complete:disabled,\n",
              "  .colab-df-quickchart-complete:disabled:hover {\n",
              "    background-color: var(--disabled-bg-color);\n",
              "    fill: var(--disabled-fill-color);\n",
              "    box-shadow: none;\n",
              "  }\n",
              "\n",
              "  .colab-df-spinner {\n",
              "    border: 2px solid var(--fill-color);\n",
              "    border-color: transparent;\n",
              "    border-bottom-color: var(--fill-color);\n",
              "    animation:\n",
              "      spin 1s steps(1) infinite;\n",
              "  }\n",
              "\n",
              "  @keyframes spin {\n",
              "    0% {\n",
              "      border-color: transparent;\n",
              "      border-bottom-color: var(--fill-color);\n",
              "      border-left-color: var(--fill-color);\n",
              "    }\n",
              "    20% {\n",
              "      border-color: transparent;\n",
              "      border-left-color: var(--fill-color);\n",
              "      border-top-color: var(--fill-color);\n",
              "    }\n",
              "    30% {\n",
              "      border-color: transparent;\n",
              "      border-left-color: var(--fill-color);\n",
              "      border-top-color: var(--fill-color);\n",
              "      border-right-color: var(--fill-color);\n",
              "    }\n",
              "    40% {\n",
              "      border-color: transparent;\n",
              "      border-right-color: var(--fill-color);\n",
              "      border-top-color: var(--fill-color);\n",
              "    }\n",
              "    60% {\n",
              "      border-color: transparent;\n",
              "      border-right-color: var(--fill-color);\n",
              "    }\n",
              "    80% {\n",
              "      border-color: transparent;\n",
              "      border-right-color: var(--fill-color);\n",
              "      border-bottom-color: var(--fill-color);\n",
              "    }\n",
              "    90% {\n",
              "      border-color: transparent;\n",
              "      border-bottom-color: var(--fill-color);\n",
              "    }\n",
              "  }\n",
              "</style>\n",
              "\n",
              "  <script>\n",
              "    async function quickchart(key) {\n",
              "      const quickchartButtonEl =\n",
              "        document.querySelector('#' + key + ' button');\n",
              "      quickchartButtonEl.disabled = true;  // To prevent multiple clicks.\n",
              "      quickchartButtonEl.classList.add('colab-df-spinner');\n",
              "      try {\n",
              "        const charts = await google.colab.kernel.invokeFunction(\n",
              "            'suggestCharts', [key], {});\n",
              "      } catch (error) {\n",
              "        console.error('Error during call to suggestCharts:', error);\n",
              "      }\n",
              "      quickchartButtonEl.classList.remove('colab-df-spinner');\n",
              "      quickchartButtonEl.classList.add('colab-df-quickchart-complete');\n",
              "    }\n",
              "    (() => {\n",
              "      let quickchartButtonEl =\n",
              "        document.querySelector('#df-482342e9-2262-4890-8907-189d5e64b2e8 button');\n",
              "      quickchartButtonEl.style.display =\n",
              "        google.colab.kernel.accessAllowed ? 'block' : 'none';\n",
              "    })();\n",
              "  </script>\n",
              "</div>\n",
              "\n",
              "    </div>\n",
              "  </div>\n"
            ]
          },
          "metadata": {},
          "execution_count": 148
        }
      ],
      "source": [
        "#Dataset first view\n",
        "df.head(5)"
      ]
    },
    {
      "cell_type": "code",
      "execution_count": 149,
      "metadata": {
        "id": "4qXCUq4_1hgk",
        "colab": {
          "base_uri": "https://localhost:8080/"
        },
        "outputId": "ba8c6f55-55bf-40d4-b0c6-410236a24db8"
      },
      "outputs": [
        {
          "output_type": "execute_result",
          "data": {
            "text/plain": [
              "Index(['id', 'name', 'host_id', 'host_name', 'neighbourhood_group',\n",
              "       'neighbourhood', 'latitude', 'longitude', 'room_type', 'price',\n",
              "       'minimum_nights', 'number_of_reviews', 'last_review',\n",
              "       'reviews_per_month', 'calculated_host_listings_count',\n",
              "       'availability_365'],\n",
              "      dtype='object')"
            ]
          },
          "metadata": {},
          "execution_count": 149
        }
      ],
      "source": [
        "#columns in dataset\n",
        "df.columns"
      ]
    },
    {
      "cell_type": "markdown",
      "metadata": {
        "id": "rxp0ZWXvtDdO"
      },
      "source": [
        "<font size='8'> **Information about dataset**</font>"
      ]
    },
    {
      "cell_type": "code",
      "execution_count": 150,
      "metadata": {
        "id": "xgZOtWOl0xsB",
        "colab": {
          "base_uri": "https://localhost:8080/"
        },
        "outputId": "83bf5260-e136-443f-b62a-f8a067eedf16"
      },
      "outputs": [
        {
          "output_type": "stream",
          "name": "stdout",
          "text": [
            "<class 'pandas.core.frame.DataFrame'>\n",
            "RangeIndex: 48895 entries, 0 to 48894\n",
            "Data columns (total 16 columns):\n",
            " #   Column                          Non-Null Count  Dtype  \n",
            "---  ------                          --------------  -----  \n",
            " 0   id                              48895 non-null  int64  \n",
            " 1   name                            48879 non-null  object \n",
            " 2   host_id                         48895 non-null  int64  \n",
            " 3   host_name                       48874 non-null  object \n",
            " 4   neighbourhood_group             48895 non-null  object \n",
            " 5   neighbourhood                   48895 non-null  object \n",
            " 6   latitude                        48895 non-null  float64\n",
            " 7   longitude                       48895 non-null  float64\n",
            " 8   room_type                       48895 non-null  object \n",
            " 9   price                           48895 non-null  int64  \n",
            " 10  minimum_nights                  48895 non-null  int64  \n",
            " 11  number_of_reviews               48895 non-null  int64  \n",
            " 12  last_review                     38843 non-null  object \n",
            " 13  reviews_per_month               38843 non-null  float64\n",
            " 14  calculated_host_listings_count  48895 non-null  int64  \n",
            " 15  availability_365                48895 non-null  int64  \n",
            "dtypes: float64(3), int64(7), object(6)\n",
            "memory usage: 6.0+ MB\n"
          ]
        }
      ],
      "source": [
        "#information of dataset\n",
        "df.info()"
      ]
    },
    {
      "cell_type": "markdown",
      "metadata": {
        "id": "2cuGIUBTLolI"
      },
      "source": [
        "<font size='5'>Dataset Description</font>"
      ]
    },
    {
      "cell_type": "code",
      "execution_count": 151,
      "metadata": {
        "id": "ckdjIfDdL3xZ",
        "colab": {
          "base_uri": "https://localhost:8080/",
          "height": 320
        },
        "outputId": "a333c18f-8c95-4aa7-8cd2-556588936de3"
      },
      "outputs": [
        {
          "output_type": "execute_result",
          "data": {
            "text/plain": [
              "                 id       host_id      latitude     longitude         price  \\\n",
              "count  4.889500e+04  4.889500e+04  48895.000000  48895.000000  48895.000000   \n",
              "mean   1.901714e+07  6.762001e+07     40.728949    -73.952170    152.720687   \n",
              "std    1.098311e+07  7.861097e+07      0.054530      0.046157    240.154170   \n",
              "min    2.539000e+03  2.438000e+03     40.499790    -74.244420      0.000000   \n",
              "25%    9.471945e+06  7.822033e+06     40.690100    -73.983070     69.000000   \n",
              "50%    1.967728e+07  3.079382e+07     40.723070    -73.955680    106.000000   \n",
              "75%    2.915218e+07  1.074344e+08     40.763115    -73.936275    175.000000   \n",
              "max    3.648724e+07  2.743213e+08     40.913060    -73.712990  10000.000000   \n",
              "\n",
              "       minimum_nights  number_of_reviews  reviews_per_month  \\\n",
              "count    48895.000000       48895.000000       38843.000000   \n",
              "mean         7.029962          23.274466           1.373221   \n",
              "std         20.510550          44.550582           1.680442   \n",
              "min          1.000000           0.000000           0.010000   \n",
              "25%          1.000000           1.000000           0.190000   \n",
              "50%          3.000000           5.000000           0.720000   \n",
              "75%          5.000000          24.000000           2.020000   \n",
              "max       1250.000000         629.000000          58.500000   \n",
              "\n",
              "       calculated_host_listings_count  availability_365  \n",
              "count                    48895.000000      48895.000000  \n",
              "mean                         7.143982        112.781327  \n",
              "std                         32.952519        131.622289  \n",
              "min                          1.000000          0.000000  \n",
              "25%                          1.000000          0.000000  \n",
              "50%                          1.000000         45.000000  \n",
              "75%                          2.000000        227.000000  \n",
              "max                        327.000000        365.000000  "
            ],
            "text/html": [
              "\n",
              "  <div id=\"df-aafb5892-2d0f-4c09-b87a-e2de865c7cbd\" class=\"colab-df-container\">\n",
              "    <div>\n",
              "<style scoped>\n",
              "    .dataframe tbody tr th:only-of-type {\n",
              "        vertical-align: middle;\n",
              "    }\n",
              "\n",
              "    .dataframe tbody tr th {\n",
              "        vertical-align: top;\n",
              "    }\n",
              "\n",
              "    .dataframe thead th {\n",
              "        text-align: right;\n",
              "    }\n",
              "</style>\n",
              "<table border=\"1\" class=\"dataframe\">\n",
              "  <thead>\n",
              "    <tr style=\"text-align: right;\">\n",
              "      <th></th>\n",
              "      <th>id</th>\n",
              "      <th>host_id</th>\n",
              "      <th>latitude</th>\n",
              "      <th>longitude</th>\n",
              "      <th>price</th>\n",
              "      <th>minimum_nights</th>\n",
              "      <th>number_of_reviews</th>\n",
              "      <th>reviews_per_month</th>\n",
              "      <th>calculated_host_listings_count</th>\n",
              "      <th>availability_365</th>\n",
              "    </tr>\n",
              "  </thead>\n",
              "  <tbody>\n",
              "    <tr>\n",
              "      <th>count</th>\n",
              "      <td>4.889500e+04</td>\n",
              "      <td>4.889500e+04</td>\n",
              "      <td>48895.000000</td>\n",
              "      <td>48895.000000</td>\n",
              "      <td>48895.000000</td>\n",
              "      <td>48895.000000</td>\n",
              "      <td>48895.000000</td>\n",
              "      <td>38843.000000</td>\n",
              "      <td>48895.000000</td>\n",
              "      <td>48895.000000</td>\n",
              "    </tr>\n",
              "    <tr>\n",
              "      <th>mean</th>\n",
              "      <td>1.901714e+07</td>\n",
              "      <td>6.762001e+07</td>\n",
              "      <td>40.728949</td>\n",
              "      <td>-73.952170</td>\n",
              "      <td>152.720687</td>\n",
              "      <td>7.029962</td>\n",
              "      <td>23.274466</td>\n",
              "      <td>1.373221</td>\n",
              "      <td>7.143982</td>\n",
              "      <td>112.781327</td>\n",
              "    </tr>\n",
              "    <tr>\n",
              "      <th>std</th>\n",
              "      <td>1.098311e+07</td>\n",
              "      <td>7.861097e+07</td>\n",
              "      <td>0.054530</td>\n",
              "      <td>0.046157</td>\n",
              "      <td>240.154170</td>\n",
              "      <td>20.510550</td>\n",
              "      <td>44.550582</td>\n",
              "      <td>1.680442</td>\n",
              "      <td>32.952519</td>\n",
              "      <td>131.622289</td>\n",
              "    </tr>\n",
              "    <tr>\n",
              "      <th>min</th>\n",
              "      <td>2.539000e+03</td>\n",
              "      <td>2.438000e+03</td>\n",
              "      <td>40.499790</td>\n",
              "      <td>-74.244420</td>\n",
              "      <td>0.000000</td>\n",
              "      <td>1.000000</td>\n",
              "      <td>0.000000</td>\n",
              "      <td>0.010000</td>\n",
              "      <td>1.000000</td>\n",
              "      <td>0.000000</td>\n",
              "    </tr>\n",
              "    <tr>\n",
              "      <th>25%</th>\n",
              "      <td>9.471945e+06</td>\n",
              "      <td>7.822033e+06</td>\n",
              "      <td>40.690100</td>\n",
              "      <td>-73.983070</td>\n",
              "      <td>69.000000</td>\n",
              "      <td>1.000000</td>\n",
              "      <td>1.000000</td>\n",
              "      <td>0.190000</td>\n",
              "      <td>1.000000</td>\n",
              "      <td>0.000000</td>\n",
              "    </tr>\n",
              "    <tr>\n",
              "      <th>50%</th>\n",
              "      <td>1.967728e+07</td>\n",
              "      <td>3.079382e+07</td>\n",
              "      <td>40.723070</td>\n",
              "      <td>-73.955680</td>\n",
              "      <td>106.000000</td>\n",
              "      <td>3.000000</td>\n",
              "      <td>5.000000</td>\n",
              "      <td>0.720000</td>\n",
              "      <td>1.000000</td>\n",
              "      <td>45.000000</td>\n",
              "    </tr>\n",
              "    <tr>\n",
              "      <th>75%</th>\n",
              "      <td>2.915218e+07</td>\n",
              "      <td>1.074344e+08</td>\n",
              "      <td>40.763115</td>\n",
              "      <td>-73.936275</td>\n",
              "      <td>175.000000</td>\n",
              "      <td>5.000000</td>\n",
              "      <td>24.000000</td>\n",
              "      <td>2.020000</td>\n",
              "      <td>2.000000</td>\n",
              "      <td>227.000000</td>\n",
              "    </tr>\n",
              "    <tr>\n",
              "      <th>max</th>\n",
              "      <td>3.648724e+07</td>\n",
              "      <td>2.743213e+08</td>\n",
              "      <td>40.913060</td>\n",
              "      <td>-73.712990</td>\n",
              "      <td>10000.000000</td>\n",
              "      <td>1250.000000</td>\n",
              "      <td>629.000000</td>\n",
              "      <td>58.500000</td>\n",
              "      <td>327.000000</td>\n",
              "      <td>365.000000</td>\n",
              "    </tr>\n",
              "  </tbody>\n",
              "</table>\n",
              "</div>\n",
              "    <div class=\"colab-df-buttons\">\n",
              "\n",
              "  <div class=\"colab-df-container\">\n",
              "    <button class=\"colab-df-convert\" onclick=\"convertToInteractive('df-aafb5892-2d0f-4c09-b87a-e2de865c7cbd')\"\n",
              "            title=\"Convert this dataframe to an interactive table.\"\n",
              "            style=\"display:none;\">\n",
              "\n",
              "  <svg xmlns=\"http://www.w3.org/2000/svg\" height=\"24px\" viewBox=\"0 -960 960 960\">\n",
              "    <path d=\"M120-120v-720h720v720H120Zm60-500h600v-160H180v160Zm220 220h160v-160H400v160Zm0 220h160v-160H400v160ZM180-400h160v-160H180v160Zm440 0h160v-160H620v160ZM180-180h160v-160H180v160Zm440 0h160v-160H620v160Z\"/>\n",
              "  </svg>\n",
              "    </button>\n",
              "\n",
              "  <style>\n",
              "    .colab-df-container {\n",
              "      display:flex;\n",
              "      gap: 12px;\n",
              "    }\n",
              "\n",
              "    .colab-df-convert {\n",
              "      background-color: #E8F0FE;\n",
              "      border: none;\n",
              "      border-radius: 50%;\n",
              "      cursor: pointer;\n",
              "      display: none;\n",
              "      fill: #1967D2;\n",
              "      height: 32px;\n",
              "      padding: 0 0 0 0;\n",
              "      width: 32px;\n",
              "    }\n",
              "\n",
              "    .colab-df-convert:hover {\n",
              "      background-color: #E2EBFA;\n",
              "      box-shadow: 0px 1px 2px rgba(60, 64, 67, 0.3), 0px 1px 3px 1px rgba(60, 64, 67, 0.15);\n",
              "      fill: #174EA6;\n",
              "    }\n",
              "\n",
              "    .colab-df-buttons div {\n",
              "      margin-bottom: 4px;\n",
              "    }\n",
              "\n",
              "    [theme=dark] .colab-df-convert {\n",
              "      background-color: #3B4455;\n",
              "      fill: #D2E3FC;\n",
              "    }\n",
              "\n",
              "    [theme=dark] .colab-df-convert:hover {\n",
              "      background-color: #434B5C;\n",
              "      box-shadow: 0px 1px 3px 1px rgba(0, 0, 0, 0.15);\n",
              "      filter: drop-shadow(0px 1px 2px rgba(0, 0, 0, 0.3));\n",
              "      fill: #FFFFFF;\n",
              "    }\n",
              "  </style>\n",
              "\n",
              "    <script>\n",
              "      const buttonEl =\n",
              "        document.querySelector('#df-aafb5892-2d0f-4c09-b87a-e2de865c7cbd button.colab-df-convert');\n",
              "      buttonEl.style.display =\n",
              "        google.colab.kernel.accessAllowed ? 'block' : 'none';\n",
              "\n",
              "      async function convertToInteractive(key) {\n",
              "        const element = document.querySelector('#df-aafb5892-2d0f-4c09-b87a-e2de865c7cbd');\n",
              "        const dataTable =\n",
              "          await google.colab.kernel.invokeFunction('convertToInteractive',\n",
              "                                                    [key], {});\n",
              "        if (!dataTable) return;\n",
              "\n",
              "        const docLinkHtml = 'Like what you see? Visit the ' +\n",
              "          '<a target=\"_blank\" href=https://colab.research.google.com/notebooks/data_table.ipynb>data table notebook</a>'\n",
              "          + ' to learn more about interactive tables.';\n",
              "        element.innerHTML = '';\n",
              "        dataTable['output_type'] = 'display_data';\n",
              "        await google.colab.output.renderOutput(dataTable, element);\n",
              "        const docLink = document.createElement('div');\n",
              "        docLink.innerHTML = docLinkHtml;\n",
              "        element.appendChild(docLink);\n",
              "      }\n",
              "    </script>\n",
              "  </div>\n",
              "\n",
              "\n",
              "<div id=\"df-5b2d15fb-be06-46ef-925b-1eea7649a66e\">\n",
              "  <button class=\"colab-df-quickchart\" onclick=\"quickchart('df-5b2d15fb-be06-46ef-925b-1eea7649a66e')\"\n",
              "            title=\"Suggest charts\"\n",
              "            style=\"display:none;\">\n",
              "\n",
              "<svg xmlns=\"http://www.w3.org/2000/svg\" height=\"24px\"viewBox=\"0 0 24 24\"\n",
              "     width=\"24px\">\n",
              "    <g>\n",
              "        <path d=\"M19 3H5c-1.1 0-2 .9-2 2v14c0 1.1.9 2 2 2h14c1.1 0 2-.9 2-2V5c0-1.1-.9-2-2-2zM9 17H7v-7h2v7zm4 0h-2V7h2v10zm4 0h-2v-4h2v4z\"/>\n",
              "    </g>\n",
              "</svg>\n",
              "  </button>\n",
              "\n",
              "<style>\n",
              "  .colab-df-quickchart {\n",
              "      --bg-color: #E8F0FE;\n",
              "      --fill-color: #1967D2;\n",
              "      --hover-bg-color: #E2EBFA;\n",
              "      --hover-fill-color: #174EA6;\n",
              "      --disabled-fill-color: #AAA;\n",
              "      --disabled-bg-color: #DDD;\n",
              "  }\n",
              "\n",
              "  [theme=dark] .colab-df-quickchart {\n",
              "      --bg-color: #3B4455;\n",
              "      --fill-color: #D2E3FC;\n",
              "      --hover-bg-color: #434B5C;\n",
              "      --hover-fill-color: #FFFFFF;\n",
              "      --disabled-bg-color: #3B4455;\n",
              "      --disabled-fill-color: #666;\n",
              "  }\n",
              "\n",
              "  .colab-df-quickchart {\n",
              "    background-color: var(--bg-color);\n",
              "    border: none;\n",
              "    border-radius: 50%;\n",
              "    cursor: pointer;\n",
              "    display: none;\n",
              "    fill: var(--fill-color);\n",
              "    height: 32px;\n",
              "    padding: 0;\n",
              "    width: 32px;\n",
              "  }\n",
              "\n",
              "  .colab-df-quickchart:hover {\n",
              "    background-color: var(--hover-bg-color);\n",
              "    box-shadow: 0 1px 2px rgba(60, 64, 67, 0.3), 0 1px 3px 1px rgba(60, 64, 67, 0.15);\n",
              "    fill: var(--button-hover-fill-color);\n",
              "  }\n",
              "\n",
              "  .colab-df-quickchart-complete:disabled,\n",
              "  .colab-df-quickchart-complete:disabled:hover {\n",
              "    background-color: var(--disabled-bg-color);\n",
              "    fill: var(--disabled-fill-color);\n",
              "    box-shadow: none;\n",
              "  }\n",
              "\n",
              "  .colab-df-spinner {\n",
              "    border: 2px solid var(--fill-color);\n",
              "    border-color: transparent;\n",
              "    border-bottom-color: var(--fill-color);\n",
              "    animation:\n",
              "      spin 1s steps(1) infinite;\n",
              "  }\n",
              "\n",
              "  @keyframes spin {\n",
              "    0% {\n",
              "      border-color: transparent;\n",
              "      border-bottom-color: var(--fill-color);\n",
              "      border-left-color: var(--fill-color);\n",
              "    }\n",
              "    20% {\n",
              "      border-color: transparent;\n",
              "      border-left-color: var(--fill-color);\n",
              "      border-top-color: var(--fill-color);\n",
              "    }\n",
              "    30% {\n",
              "      border-color: transparent;\n",
              "      border-left-color: var(--fill-color);\n",
              "      border-top-color: var(--fill-color);\n",
              "      border-right-color: var(--fill-color);\n",
              "    }\n",
              "    40% {\n",
              "      border-color: transparent;\n",
              "      border-right-color: var(--fill-color);\n",
              "      border-top-color: var(--fill-color);\n",
              "    }\n",
              "    60% {\n",
              "      border-color: transparent;\n",
              "      border-right-color: var(--fill-color);\n",
              "    }\n",
              "    80% {\n",
              "      border-color: transparent;\n",
              "      border-right-color: var(--fill-color);\n",
              "      border-bottom-color: var(--fill-color);\n",
              "    }\n",
              "    90% {\n",
              "      border-color: transparent;\n",
              "      border-bottom-color: var(--fill-color);\n",
              "    }\n",
              "  }\n",
              "</style>\n",
              "\n",
              "  <script>\n",
              "    async function quickchart(key) {\n",
              "      const quickchartButtonEl =\n",
              "        document.querySelector('#' + key + ' button');\n",
              "      quickchartButtonEl.disabled = true;  // To prevent multiple clicks.\n",
              "      quickchartButtonEl.classList.add('colab-df-spinner');\n",
              "      try {\n",
              "        const charts = await google.colab.kernel.invokeFunction(\n",
              "            'suggestCharts', [key], {});\n",
              "      } catch (error) {\n",
              "        console.error('Error during call to suggestCharts:', error);\n",
              "      }\n",
              "      quickchartButtonEl.classList.remove('colab-df-spinner');\n",
              "      quickchartButtonEl.classList.add('colab-df-quickchart-complete');\n",
              "    }\n",
              "    (() => {\n",
              "      let quickchartButtonEl =\n",
              "        document.querySelector('#df-5b2d15fb-be06-46ef-925b-1eea7649a66e button');\n",
              "      quickchartButtonEl.style.display =\n",
              "        google.colab.kernel.accessAllowed ? 'block' : 'none';\n",
              "    })();\n",
              "  </script>\n",
              "</div>\n",
              "\n",
              "    </div>\n",
              "  </div>\n"
            ]
          },
          "metadata": {},
          "execution_count": 151
        }
      ],
      "source": [
        "df.describe()"
      ]
    },
    {
      "cell_type": "markdown",
      "metadata": {
        "id": "Rz3cpLrNxiaE"
      },
      "source": [
        "<font size='5'>**Columns and rows in dataset**</font>"
      ]
    },
    {
      "cell_type": "code",
      "execution_count": 152,
      "metadata": {
        "id": "iyYucsgt1Crj",
        "colab": {
          "base_uri": "https://localhost:8080/"
        },
        "outputId": "9888594d-5307-4695-9db9-39407cb27050"
      },
      "outputs": [
        {
          "output_type": "execute_result",
          "data": {
            "text/plain": [
              "(48895, 16)"
            ]
          },
          "metadata": {},
          "execution_count": 152
        }
      ],
      "source": [
        "#to find out rows and columns in data set\n",
        "df.shape"
      ]
    },
    {
      "cell_type": "markdown",
      "metadata": {
        "id": "8IUZeuM0vKoP"
      },
      "source": [
        "<font size='3'> There are 48895 rows and 16 columns.</font>"
      ]
    },
    {
      "cell_type": "markdown",
      "metadata": {
        "id": "UWBCM0TttXfS"
      },
      "source": [
        "<font size='5'>**Duplicate Values**</font>"
      ]
    },
    {
      "cell_type": "code",
      "execution_count": 153,
      "metadata": {
        "id": "YtgGm1LOtWDe",
        "colab": {
          "base_uri": "https://localhost:8080/"
        },
        "outputId": "cea5f3d3-a33d-4297-abcd-7a2491a4e763"
      },
      "outputs": [
        {
          "output_type": "execute_result",
          "data": {
            "text/plain": [
              "0"
            ]
          },
          "metadata": {},
          "execution_count": 153
        }
      ],
      "source": [
        "df.duplicated().sum()"
      ]
    },
    {
      "cell_type": "markdown",
      "metadata": {
        "id": "aby47Hbuu6OG"
      },
      "source": [
        "<font size='3'>There are no duplicate values</font>"
      ]
    },
    {
      "cell_type": "markdown",
      "metadata": {
        "id": "C2ilRKdwvpC0"
      },
      "source": [
        "<font size='5'>**Missing values in dataset**</font>\n"
      ]
    },
    {
      "cell_type": "code",
      "execution_count": 154,
      "metadata": {
        "id": "k6pOzvJav1fH",
        "colab": {
          "base_uri": "https://localhost:8080/"
        },
        "outputId": "d6faf8f3-65ac-4247-e276-b3c94bb2ba87"
      },
      "outputs": [
        {
          "output_type": "execute_result",
          "data": {
            "text/plain": [
              "last_review                       10052\n",
              "reviews_per_month                 10052\n",
              "host_name                            21\n",
              "name                                 16\n",
              "id                                    0\n",
              "host_id                               0\n",
              "neighbourhood_group                   0\n",
              "neighbourhood                         0\n",
              "latitude                              0\n",
              "longitude                             0\n",
              "room_type                             0\n",
              "price                                 0\n",
              "minimum_nights                        0\n",
              "number_of_reviews                     0\n",
              "calculated_host_listings_count        0\n",
              "availability_365                      0\n",
              "dtype: int64"
            ]
          },
          "metadata": {},
          "execution_count": 154
        }
      ],
      "source": [
        "#missing values in data set arrange in descending order\n",
        "df.isnull().sum().sort_values(ascending=False)"
      ]
    },
    {
      "cell_type": "markdown",
      "metadata": {
        "id": "-nuDBcXiwVMe"
      },
      "source": [
        "<font size='3'>Missing values in dataset:<br>last_review:10052 <br>reviews_per_month:10052<br>host_name:21<br>name:16\n",
        "</font>"
      ]
    },
    {
      "cell_type": "code",
      "execution_count": 155,
      "metadata": {
        "id": "hIddwgMuMDkk",
        "colab": {
          "base_uri": "https://localhost:8080/"
        },
        "outputId": "fdcc3f64-b85b-4ba3-f21c-9978c497afd1"
      },
      "outputs": [
        {
          "output_type": "execute_result",
          "data": {
            "text/plain": [
              "id                                 0.000000\n",
              "name                               0.032723\n",
              "host_id                            0.000000\n",
              "host_name                          0.042949\n",
              "neighbourhood_group                0.000000\n",
              "neighbourhood                      0.000000\n",
              "latitude                           0.000000\n",
              "longitude                          0.000000\n",
              "room_type                          0.000000\n",
              "price                              0.000000\n",
              "minimum_nights                     0.000000\n",
              "number_of_reviews                  0.000000\n",
              "last_review                       20.558339\n",
              "reviews_per_month                 20.558339\n",
              "calculated_host_listings_count     0.000000\n",
              "availability_365                   0.000000\n",
              "dtype: float64"
            ]
          },
          "metadata": {},
          "execution_count": 155
        }
      ],
      "source": [
        "#percent of missing value in dataset\n",
        "null_value_percentage=(df.isnull().sum()/len(df))*100\n",
        "null_value_percentage"
      ]
    },
    {
      "cell_type": "markdown",
      "source": [
        "last_review and reviews_per_month has 20 % of data missing and it doesnot have so much relevence in this dataset so it could be easily drop."
      ],
      "metadata": {
        "id": "jA_NCG7VUbv8"
      }
    },
    {
      "cell_type": "markdown",
      "metadata": {
        "id": "sQLKt-8hw8LS"
      },
      "source": [
        "<font size='5'>**Visualization of missing element**</font>"
      ]
    },
    {
      "cell_type": "code",
      "execution_count": 156,
      "metadata": {
        "id": "9KfZIpWo05hx",
        "colab": {
          "base_uri": "https://localhost:8080/",
          "height": 651
        },
        "outputId": "0289e33e-111c-4fd1-8ec9-6c33fa08b0fc"
      },
      "outputs": [
        {
          "output_type": "execute_result",
          "data": {
            "text/plain": [
              "<Axes: >"
            ]
          },
          "metadata": {},
          "execution_count": 156
        },
        {
          "output_type": "display_data",
          "data": {
            "text/plain": [
              "<Figure size 640x480 with 1 Axes>"
            ],
            "image/png": "[encoded data removed]"
          },
          "metadata": {}
        }
      ],
      "source": [
        "#visualization of missing dataset\n",
        "sns.heatmap(df.isnull(),cbar=False)"
      ]
    },
    {
      "cell_type": "markdown",
      "metadata": {
        "id": "BklyXHCLJ7Kc"
      },
      "source": [
        "<font size='3'>White lines show the missing element of the dataset"
      ]
    },
    {
      "cell_type": "markdown",
      "metadata": {
        "id": "7ESGxg5oOhCv"
      },
      "source": [
        "<font size='5'>**Exploring columns of the dataset**</font>"
      ]
    },
    {
      "cell_type": "markdown",
      "metadata": {
        "id": "5jiMR28GOtih"
      },
      "source": [
        "<font size='3'>**1.id  :  listing Id**</font>"
      ]
    },
    {
      "cell_type": "code",
      "execution_count": 157,
      "metadata": {
        "id": "rIXG8_Bz1WfX",
        "colab": {
          "base_uri": "https://localhost:8080/"
        },
        "outputId": "06faee81-d430-4133-87b2-6af541410a7d"
      },
      "outputs": [
        {
          "output_type": "execute_result",
          "data": {
            "text/plain": [
              "0            2539\n",
              "1            2595\n",
              "2            3647\n",
              "3            3831\n",
              "4            5022\n",
              "           ...   \n",
              "48890    36484665\n",
              "48891    36485057\n",
              "48892    36485431\n",
              "48893    36485609\n",
              "48894    36487245\n",
              "Name: id, Length: 48895, dtype: int64"
            ]
          },
          "metadata": {},
          "execution_count": 157
        }
      ],
      "source": [
        "df['id']"
      ]
    },
    {
      "cell_type": "markdown",
      "metadata": {
        "id": "C8kz4ZOtQa4U"
      },
      "source": [
        "<font size='3'>**2.name  :  name of listing**</font>"
      ]
    },
    {
      "cell_type": "code",
      "execution_count": 158,
      "metadata": {
        "id": "Ry6-x9AC1cLe",
        "colab": {
          "base_uri": "https://localhost:8080/"
        },
        "outputId": "169e276d-f399-4b62-b214-24acdc5857a1"
      },
      "outputs": [
        {
          "output_type": "execute_result",
          "data": {
            "text/plain": [
              "0                       Clean & quiet apt home by the park\n",
              "1                                    Skylit Midtown Castle\n",
              "2                      THE VILLAGE OF HARLEM....NEW YORK !\n",
              "3                          Cozy Entire Floor of Brownstone\n",
              "4         Entire Apt: Spacious Studio/Loft by central park\n",
              "                               ...                        \n",
              "48890      Charming one bedroom - newly renovated rowhouse\n",
              "48891        Affordable room in Bushwick/East Williamsburg\n",
              "48892              Sunny Studio at Historical Neighborhood\n",
              "48893                 43rd St. Time Square-cozy single bed\n",
              "48894    Trendy duplex in the very heart of Hell's Kitchen\n",
              "Name: name, Length: 48895, dtype: object"
            ]
          },
          "metadata": {},
          "execution_count": 158
        }
      ],
      "source": [
        "df['name']"
      ]
    },
    {
      "cell_type": "markdown",
      "metadata": {
        "id": "2gmNdenSRTc8"
      },
      "source": [
        "<font size='3'>**3.host_id  :  host ID**</font>"
      ]
    },
    {
      "cell_type": "code",
      "execution_count": 159,
      "metadata": {
        "id": "e9yiXJ9r1nQx",
        "colab": {
          "base_uri": "https://localhost:8080/"
        },
        "outputId": "1b303e84-69c1-4749-e2e5-a4791ac88b6e"
      },
      "outputs": [
        {
          "output_type": "execute_result",
          "data": {
            "text/plain": [
              "0            2787\n",
              "1            2845\n",
              "2            4632\n",
              "3            4869\n",
              "4            7192\n",
              "           ...   \n",
              "48890     8232441\n",
              "48891     6570630\n",
              "48892    23492952\n",
              "48893    30985759\n",
              "48894    68119814\n",
              "Name: host_id, Length: 48895, dtype: int64"
            ]
          },
          "metadata": {},
          "execution_count": 159
        }
      ],
      "source": [
        "df['host_id']"
      ]
    },
    {
      "cell_type": "markdown",
      "metadata": {
        "id": "v4Qr-B5zRmR6"
      },
      "source": [
        "<font size='3'>**4.host_name  :  name of the host**</font>"
      ]
    },
    {
      "cell_type": "code",
      "execution_count": 160,
      "metadata": {
        "id": "diS4AGNqNhmS",
        "colab": {
          "base_uri": "https://localhost:8080/"
        },
        "outputId": "00ed6b3b-d4fb-4c97-a6cd-f19a2a40ce84"
      },
      "outputs": [
        {
          "output_type": "execute_result",
          "data": {
            "text/plain": [
              "0                 John\n",
              "1             Jennifer\n",
              "2            Elisabeth\n",
              "3          LisaRoxanne\n",
              "4                Laura\n",
              "             ...      \n",
              "48890          Sabrina\n",
              "48891          Marisol\n",
              "48892    Ilgar & Aysel\n",
              "48893              Taz\n",
              "48894       Christophe\n",
              "Name: host_name, Length: 48895, dtype: object"
            ]
          },
          "metadata": {},
          "execution_count": 160
        }
      ],
      "source": [
        "df['host_name']"
      ]
    },
    {
      "cell_type": "markdown",
      "metadata": {
        "id": "SkIIjj7PSyCz"
      },
      "source": [
        "<font size='3'>**5.neighbourhood_group  :  location**</font>"
      ]
    },
    {
      "cell_type": "code",
      "execution_count": 161,
      "metadata": {
        "id": "mkrtLdwoN57j",
        "colab": {
          "base_uri": "https://localhost:8080/"
        },
        "outputId": "4fea3d9c-855f-49d6-c5cf-3d7761f0babd"
      },
      "outputs": [
        {
          "output_type": "execute_result",
          "data": {
            "text/plain": [
              "0         Brooklyn\n",
              "1        Manhattan\n",
              "2        Manhattan\n",
              "3         Brooklyn\n",
              "4        Manhattan\n",
              "           ...    \n",
              "48890     Brooklyn\n",
              "48891     Brooklyn\n",
              "48892    Manhattan\n",
              "48893    Manhattan\n",
              "48894    Manhattan\n",
              "Name: neighbourhood_group, Length: 48895, dtype: object"
            ]
          },
          "metadata": {},
          "execution_count": 161
        }
      ],
      "source": [
        "df['neighbourhood_group']"
      ]
    },
    {
      "cell_type": "code",
      "execution_count": 162,
      "metadata": {
        "id": "hS87Sy90N9-v",
        "colab": {
          "base_uri": "https://localhost:8080/"
        },
        "outputId": "29d829f5-f7cd-49c9-dc67-9c150d48a4f1"
      },
      "outputs": [
        {
          "output_type": "execute_result",
          "data": {
            "text/plain": [
              "Manhattan        21661\n",
              "Brooklyn         20104\n",
              "Queens            5666\n",
              "Bronx             1091\n",
              "Staten Island      373\n",
              "Name: neighbourhood_group, dtype: int64"
            ]
          },
          "metadata": {},
          "execution_count": 162
        }
      ],
      "source": [
        "#value count of element of neighbourhood_group\n",
        "df['neighbourhood_group'].value_counts()"
      ]
    },
    {
      "cell_type": "markdown",
      "metadata": {
        "id": "s47Bg7v3UPXD"
      },
      "source": [
        "<font size='3'>Manhattan has  highest evaluation in the dataset.</font>"
      ]
    },
    {
      "cell_type": "markdown",
      "metadata": {
        "id": "2k8K7N6QVC5Y"
      },
      "source": [
        "<font size='3'>**6.neighbourhood  :  area**</font>"
      ]
    },
    {
      "cell_type": "code",
      "execution_count": 163,
      "metadata": {
        "id": "vGx4SS8pOFZn",
        "colab": {
          "base_uri": "https://localhost:8080/"
        },
        "outputId": "807e83aa-ed3a-459f-e9ab-cc5b457b46fd"
      },
      "outputs": [
        {
          "output_type": "execute_result",
          "data": {
            "text/plain": [
              "0                Kensington\n",
              "1                   Midtown\n",
              "2                    Harlem\n",
              "3              Clinton Hill\n",
              "4               East Harlem\n",
              "                ...        \n",
              "48890    Bedford-Stuyvesant\n",
              "48891              Bushwick\n",
              "48892                Harlem\n",
              "48893        Hell's Kitchen\n",
              "48894        Hell's Kitchen\n",
              "Name: neighbourhood, Length: 48895, dtype: object"
            ]
          },
          "metadata": {},
          "execution_count": 163
        }
      ],
      "source": [
        "df['neighbourhood']"
      ]
    },
    {
      "cell_type": "code",
      "execution_count": 164,
      "metadata": {
        "id": "hKYWVnyWOK-_",
        "colab": {
          "base_uri": "https://localhost:8080/"
        },
        "outputId": "92cf75fd-aea3-49c5-96f6-cfbc05337d21"
      },
      "outputs": [
        {
          "output_type": "execute_result",
          "data": {
            "text/plain": [
              "Williamsburg          3920\n",
              "Bedford-Stuyvesant    3714\n",
              "Harlem                2658\n",
              "Bushwick              2465\n",
              "Upper West Side       1971\n",
              "                      ... \n",
              "Fort Wadsworth           1\n",
              "Richmondtown             1\n",
              "New Dorp                 1\n",
              "Rossville                1\n",
              "Willowbrook              1\n",
              "Name: neighbourhood, Length: 221, dtype: int64"
            ]
          },
          "metadata": {},
          "execution_count": 164
        }
      ],
      "source": [
        "#value count of element of neighbourhood\n",
        "df['neighbourhood'].value_counts()"
      ]
    },
    {
      "cell_type": "markdown",
      "metadata": {
        "id": "03HtGjyXVnrL"
      },
      "source": [
        "<font size='3'>Williamsburg has highest evaluation in the dataset</font>"
      ]
    },
    {
      "cell_type": "markdown",
      "metadata": {
        "id": "5yimDm06V5_e"
      },
      "source": [
        "<font size='3'>**7.latitude  :  latitude coordinates**</font>"
      ]
    },
    {
      "cell_type": "code",
      "execution_count": 165,
      "metadata": {
        "id": "uVIUBkL5_VwC",
        "colab": {
          "base_uri": "https://localhost:8080/"
        },
        "outputId": "9174ef4c-7ddf-4523-e83c-12d4ec49f218"
      },
      "outputs": [
        {
          "output_type": "execute_result",
          "data": {
            "text/plain": [
              "0        40.64749\n",
              "1        40.75362\n",
              "2        40.80902\n",
              "3        40.68514\n",
              "4        40.79851\n",
              "           ...   \n",
              "48890    40.67853\n",
              "48891    40.70184\n",
              "48892    40.81475\n",
              "48893    40.75751\n",
              "48894    40.76404\n",
              "Name: latitude, Length: 48895, dtype: float64"
            ]
          },
          "metadata": {},
          "execution_count": 165
        }
      ],
      "source": [
        "df['latitude']"
      ]
    },
    {
      "cell_type": "markdown",
      "metadata": {
        "id": "FrSVozLgWN9k"
      },
      "source": [
        "<font size='3'>**8.longitude  :  longitude coordinates**</font>"
      ]
    },
    {
      "cell_type": "code",
      "execution_count": 166,
      "metadata": {
        "id": "pQyBG_wv_4Ws",
        "colab": {
          "base_uri": "https://localhost:8080/"
        },
        "outputId": "0e2aacae-1886-499e-8a8f-ca778020d130"
      },
      "outputs": [
        {
          "output_type": "execute_result",
          "data": {
            "text/plain": [
              "0       -73.97237\n",
              "1       -73.98377\n",
              "2       -73.94190\n",
              "3       -73.95976\n",
              "4       -73.94399\n",
              "           ...   \n",
              "48890   -73.94995\n",
              "48891   -73.93317\n",
              "48892   -73.94867\n",
              "48893   -73.99112\n",
              "48894   -73.98933\n",
              "Name: longitude, Length: 48895, dtype: float64"
            ]
          },
          "metadata": {},
          "execution_count": 166
        }
      ],
      "source": [
        "df['longitude']"
      ]
    },
    {
      "cell_type": "markdown",
      "metadata": {
        "id": "luVt3AVzWgDh"
      },
      "source": [
        "<font size='3'>**9.room_type  :  listing space type**</font>"
      ]
    },
    {
      "cell_type": "code",
      "execution_count": 167,
      "metadata": {
        "id": "0buu3fgdOTIH",
        "colab": {
          "base_uri": "https://localhost:8080/"
        },
        "outputId": "eaafc31e-3e5f-4db5-f0cb-4f97155ee530"
      },
      "outputs": [
        {
          "output_type": "execute_result",
          "data": {
            "text/plain": [
              "0           Private room\n",
              "1        Entire home/apt\n",
              "2           Private room\n",
              "3        Entire home/apt\n",
              "4        Entire home/apt\n",
              "              ...       \n",
              "48890       Private room\n",
              "48891       Private room\n",
              "48892    Entire home/apt\n",
              "48893        Shared room\n",
              "48894       Private room\n",
              "Name: room_type, Length: 48895, dtype: object"
            ]
          },
          "metadata": {},
          "execution_count": 167
        }
      ],
      "source": [
        "df['room_type']"
      ]
    },
    {
      "cell_type": "code",
      "execution_count": 168,
      "metadata": {
        "id": "DOl593E2OjoU",
        "colab": {
          "base_uri": "https://localhost:8080/"
        },
        "outputId": "7118cfc5-7bd6-40a7-ed6b-648264552d4c"
      },
      "outputs": [
        {
          "output_type": "execute_result",
          "data": {
            "text/plain": [
              "Entire home/apt    25409\n",
              "Private room       22326\n",
              "Shared room         1160\n",
              "Name: room_type, dtype: int64"
            ]
          },
          "metadata": {},
          "execution_count": 168
        }
      ],
      "source": [
        "#value count of element of room_type\n",
        "df['room_type'].value_counts()"
      ]
    },
    {
      "cell_type": "markdown",
      "metadata": {
        "id": "m82TCtmyYD-1"
      },
      "source": [
        "<font size='3'>**10.minimum_nights  :  minimum nights spend**</font>"
      ]
    },
    {
      "cell_type": "code",
      "execution_count": 169,
      "metadata": {
        "id": "z_CtFJlWOrX6",
        "colab": {
          "base_uri": "https://localhost:8080/"
        },
        "outputId": "e0246937-3d7c-4206-862a-2eef8bfdc6b8"
      },
      "outputs": [
        {
          "output_type": "execute_result",
          "data": {
            "text/plain": [
              "0         1\n",
              "1         1\n",
              "2         3\n",
              "3         1\n",
              "4        10\n",
              "         ..\n",
              "48890     2\n",
              "48891     4\n",
              "48892    10\n",
              "48893     1\n",
              "48894     7\n",
              "Name: minimum_nights, Length: 48895, dtype: int64"
            ]
          },
          "metadata": {},
          "execution_count": 169
        }
      ],
      "source": [
        "df['minimum_nights']"
      ]
    },
    {
      "cell_type": "code",
      "execution_count": 170,
      "metadata": {
        "id": "KisqdniYO-QM",
        "colab": {
          "base_uri": "https://localhost:8080/"
        },
        "outputId": "2090f24b-6411-4655-bcbc-26c18a00aa9c"
      },
      "outputs": [
        {
          "output_type": "execute_result",
          "data": {
            "text/plain": [
              "1      12720\n",
              "2      11696\n",
              "3       7999\n",
              "30      3760\n",
              "4       3303\n",
              "       ...  \n",
              "186        1\n",
              "366        1\n",
              "68         1\n",
              "87         1\n",
              "36         1\n",
              "Name: minimum_nights, Length: 109, dtype: int64"
            ]
          },
          "metadata": {},
          "execution_count": 170
        }
      ],
      "source": [
        "#value count of element of minimum_nights\n",
        "df['minimum_nights'].value_counts()"
      ]
    },
    {
      "cell_type": "markdown",
      "metadata": {
        "id": "ubl8ac_gYiA5"
      },
      "source": [
        "<font size='3'>**11.price  :  price in dollars**</font>"
      ]
    },
    {
      "cell_type": "code",
      "execution_count": 171,
      "metadata": {
        "id": "zzbUQI35PFHt",
        "colab": {
          "base_uri": "https://localhost:8080/"
        },
        "outputId": "189362f1-bf52-4b8c-959f-1ba5ab33ed21"
      },
      "outputs": [
        {
          "output_type": "execute_result",
          "data": {
            "text/plain": [
              "0        149\n",
              "1        225\n",
              "2        150\n",
              "3         89\n",
              "4         80\n",
              "        ... \n",
              "48890     70\n",
              "48891     40\n",
              "48892    115\n",
              "48893     55\n",
              "48894     90\n",
              "Name: price, Length: 48895, dtype: int64"
            ]
          },
          "metadata": {},
          "execution_count": 171
        }
      ],
      "source": [
        "df['price']"
      ]
    },
    {
      "cell_type": "code",
      "execution_count": 172,
      "metadata": {
        "id": "M_Vi4xypPLHU",
        "colab": {
          "base_uri": "https://localhost:8080/"
        },
        "outputId": "9404a22f-0f2b-4cf1-f9d7-0cc1f980f4f2"
      },
      "outputs": [
        {
          "output_type": "execute_result",
          "data": {
            "text/plain": [
              "100    2051\n",
              "150    2047\n",
              "50     1534\n",
              "60     1458\n",
              "200    1401\n",
              "       ... \n",
              "780       1\n",
              "386       1\n",
              "888       1\n",
              "483       1\n",
              "338       1\n",
              "Name: price, Length: 674, dtype: int64"
            ]
          },
          "metadata": {},
          "execution_count": 172
        }
      ],
      "source": [
        "#value count of element of price\n",
        "df['price'].value_counts()"
      ]
    },
    {
      "cell_type": "code",
      "execution_count": 173,
      "metadata": {
        "id": "wbMegVm8rUcr",
        "colab": {
          "base_uri": "https://localhost:8080/",
          "height": 428
        },
        "outputId": "355e68a2-a008-4428-b4d3-87e27ab4be11"
      },
      "outputs": [
        {
          "output_type": "execute_result",
          "data": {
            "text/plain": [
              "<Axes: ylabel='price'>"
            ]
          },
          "metadata": {},
          "execution_count": 173
        },
        {
          "output_type": "display_data",
          "data": {
            "text/plain": [
              "<Figure size 640x480 with 1 Axes>"
            ],
            "image/png": "[encoded data removed]"
          },
          "metadata": {}
        }
      ],
      "source": [
        "sns.boxplot(df['price'])"
      ]
    },
    {
      "cell_type": "markdown",
      "metadata": {
        "id": "QdmsGCCwrnlg"
      },
      "source": [
        "Since price column has too many outliers so we have remove those outliers as it cause effect to our dataset."
      ]
    },
    {
      "cell_type": "code",
      "execution_count": 174,
      "metadata": {
        "id": "YTlGWkHkrmyQ",
        "colab": {
          "base_uri": "https://localhost:8080/",
          "height": 466
        },
        "outputId": "ad59d968-acbd-4b95-cf48-ec43e88ba697"
      },
      "outputs": [
        {
          "output_type": "execute_result",
          "data": {
            "text/plain": [
              "<Axes: xlabel='price', ylabel='Count'>"
            ]
          },
          "metadata": {},
          "execution_count": 174
        },
        {
          "output_type": "display_data",
          "data": {
            "text/plain": [
              "<Figure size 640x480 with 1 Axes>"
            ],
            "image/png": "[encoded data removed]"
          },
          "metadata": {}
        }
      ],
      "source": [
        "sns.histplot(df['price'],kde=True)"
      ]
    },
    {
      "cell_type": "code",
      "execution_count": 175,
      "metadata": {
        "id": "2M6RjBl03JFC",
        "colab": {
          "base_uri": "https://localhost:8080/",
          "height": 175
        },
        "outputId": "1785d1e3-b18a-48bc-ac25-b800ffec0406"
      },
      "outputs": [
        {
          "output_type": "execute_result",
          "data": {
            "text/plain": [
              "               price\n",
              "mean      152.720687\n",
              "median    106.000000\n",
              "min         0.000000\n",
              "max     10000.000000"
            ],
            "text/html": [
              "\n",
              "  <div id=\"df-9a518e3a-691e-4c12-a5ad-d017f2f5324a\" class=\"colab-df-container\">\n",
              "    <div>\n",
              "<style scoped>\n",
              "    .dataframe tbody tr th:only-of-type {\n",
              "        vertical-align: middle;\n",
              "    }\n",
              "\n",
              "    .dataframe tbody tr th {\n",
              "        vertical-align: top;\n",
              "    }\n",
              "\n",
              "    .dataframe thead th {\n",
              "        text-align: right;\n",
              "    }\n",
              "</style>\n",
              "<table border=\"1\" class=\"dataframe\">\n",
              "  <thead>\n",
              "    <tr style=\"text-align: right;\">\n",
              "      <th></th>\n",
              "      <th>price</th>\n",
              "    </tr>\n",
              "  </thead>\n",
              "  <tbody>\n",
              "    <tr>\n",
              "      <th>mean</th>\n",
              "      <td>152.720687</td>\n",
              "    </tr>\n",
              "    <tr>\n",
              "      <th>median</th>\n",
              "      <td>106.000000</td>\n",
              "    </tr>\n",
              "    <tr>\n",
              "      <th>min</th>\n",
              "      <td>0.000000</td>\n",
              "    </tr>\n",
              "    <tr>\n",
              "      <th>max</th>\n",
              "      <td>10000.000000</td>\n",
              "    </tr>\n",
              "  </tbody>\n",
              "</table>\n",
              "</div>\n",
              "    <div class=\"colab-df-buttons\">\n",
              "\n",
              "  <div class=\"colab-df-container\">\n",
              "    <button class=\"colab-df-convert\" onclick=\"convertToInteractive('df-9a518e3a-691e-4c12-a5ad-d017f2f5324a')\"\n",
              "            title=\"Convert this dataframe to an interactive table.\"\n",
              "            style=\"display:none;\">\n",
              "\n",
              "  <svg xmlns=\"http://www.w3.org/2000/svg\" height=\"24px\" viewBox=\"0 -960 960 960\">\n",
              "    <path d=\"M120-120v-720h720v720H120Zm60-500h600v-160H180v160Zm220 220h160v-160H400v160Zm0 220h160v-160H400v160ZM180-400h160v-160H180v160Zm440 0h160v-160H620v160ZM180-180h160v-160H180v160Zm440 0h160v-160H620v160Z\"/>\n",
              "  </svg>\n",
              "    </button>\n",
              "\n",
              "  <style>\n",
              "    .colab-df-container {\n",
              "      display:flex;\n",
              "      gap: 12px;\n",
              "    }\n",
              "\n",
              "    .colab-df-convert {\n",
              "      background-color: #E8F0FE;\n",
              "      border: none;\n",
              "      border-radius: 50%;\n",
              "      cursor: pointer;\n",
              "      display: none;\n",
              "      fill: #1967D2;\n",
              "      height: 32px;\n",
              "      padding: 0 0 0 0;\n",
              "      width: 32px;\n",
              "    }\n",
              "\n",
              "    .colab-df-convert:hover {\n",
              "      background-color: #E2EBFA;\n",
              "      box-shadow: 0px 1px 2px rgba(60, 64, 67, 0.3), 0px 1px 3px 1px rgba(60, 64, 67, 0.15);\n",
              "      fill: #174EA6;\n",
              "    }\n",
              "\n",
              "    .colab-df-buttons div {\n",
              "      margin-bottom: 4px;\n",
              "    }\n",
              "\n",
              "    [theme=dark] .colab-df-convert {\n",
              "      background-color: #3B4455;\n",
              "      fill: #D2E3FC;\n",
              "    }\n",
              "\n",
              "    [theme=dark] .colab-df-convert:hover {\n",
              "      background-color: #434B5C;\n",
              "      box-shadow: 0px 1px 3px 1px rgba(0, 0, 0, 0.15);\n",
              "      filter: drop-shadow(0px 1px 2px rgba(0, 0, 0, 0.3));\n",
              "      fill: #FFFFFF;\n",
              "    }\n",
              "  </style>\n",
              "\n",
              "    <script>\n",
              "      const buttonEl =\n",
              "        document.querySelector('#df-9a518e3a-691e-4c12-a5ad-d017f2f5324a button.colab-df-convert');\n",
              "      buttonEl.style.display =\n",
              "        google.colab.kernel.accessAllowed ? 'block' : 'none';\n",
              "\n",
              "      async function convertToInteractive(key) {\n",
              "        const element = document.querySelector('#df-9a518e3a-691e-4c12-a5ad-d017f2f5324a');\n",
              "        const dataTable =\n",
              "          await google.colab.kernel.invokeFunction('convertToInteractive',\n",
              "                                                    [key], {});\n",
              "        if (!dataTable) return;\n",
              "\n",
              "        const docLinkHtml = 'Like what you see? Visit the ' +\n",
              "          '<a target=\"_blank\" href=https://colab.research.google.com/notebooks/data_table.ipynb>data table notebook</a>'\n",
              "          + ' to learn more about interactive tables.';\n",
              "        element.innerHTML = '';\n",
              "        dataTable['output_type'] = 'display_data';\n",
              "        await google.colab.output.renderOutput(dataTable, element);\n",
              "        const docLink = document.createElement('div');\n",
              "        docLink.innerHTML = docLinkHtml;\n",
              "        element.appendChild(docLink);\n",
              "      }\n",
              "    </script>\n",
              "  </div>\n",
              "\n",
              "\n",
              "<div id=\"df-1f320ed4-4b8c-4d15-a628-b48ebaf847fd\">\n",
              "  <button class=\"colab-df-quickchart\" onclick=\"quickchart('df-1f320ed4-4b8c-4d15-a628-b48ebaf847fd')\"\n",
              "            title=\"Suggest charts\"\n",
              "            style=\"display:none;\">\n",
              "\n",
              "<svg xmlns=\"http://www.w3.org/2000/svg\" height=\"24px\"viewBox=\"0 0 24 24\"\n",
              "     width=\"24px\">\n",
              "    <g>\n",
              "        <path d=\"M19 3H5c-1.1 0-2 .9-2 2v14c0 1.1.9 2 2 2h14c1.1 0 2-.9 2-2V5c0-1.1-.9-2-2-2zM9 17H7v-7h2v7zm4 0h-2V7h2v10zm4 0h-2v-4h2v4z\"/>\n",
              "    </g>\n",
              "</svg>\n",
              "  </button>\n",
              "\n",
              "<style>\n",
              "  .colab-df-quickchart {\n",
              "      --bg-color: #E8F0FE;\n",
              "      --fill-color: #1967D2;\n",
              "      --hover-bg-color: #E2EBFA;\n",
              "      --hover-fill-color: #174EA6;\n",
              "      --disabled-fill-color: #AAA;\n",
              "      --disabled-bg-color: #DDD;\n",
              "  }\n",
              "\n",
              "  [theme=dark] .colab-df-quickchart {\n",
              "      --bg-color: #3B4455;\n",
              "      --fill-color: #D2E3FC;\n",
              "      --hover-bg-color: #434B5C;\n",
              "      --hover-fill-color: #FFFFFF;\n",
              "      --disabled-bg-color: #3B4455;\n",
              "      --disabled-fill-color: #666;\n",
              "  }\n",
              "\n",
              "  .colab-df-quickchart {\n",
              "    background-color: var(--bg-color);\n",
              "    border: none;\n",
              "    border-radius: 50%;\n",
              "    cursor: pointer;\n",
              "    display: none;\n",
              "    fill: var(--fill-color);\n",
              "    height: 32px;\n",
              "    padding: 0;\n",
              "    width: 32px;\n",
              "  }\n",
              "\n",
              "  .colab-df-quickchart:hover {\n",
              "    background-color: var(--hover-bg-color);\n",
              "    box-shadow: 0 1px 2px rgba(60, 64, 67, 0.3), 0 1px 3px 1px rgba(60, 64, 67, 0.15);\n",
              "    fill: var(--button-hover-fill-color);\n",
              "  }\n",
              "\n",
              "  .colab-df-quickchart-complete:disabled,\n",
              "  .colab-df-quickchart-complete:disabled:hover {\n",
              "    background-color: var(--disabled-bg-color);\n",
              "    fill: var(--disabled-fill-color);\n",
              "    box-shadow: none;\n",
              "  }\n",
              "\n",
              "  .colab-df-spinner {\n",
              "    border: 2px solid var(--fill-color);\n",
              "    border-color: transparent;\n",
              "    border-bottom-color: var(--fill-color);\n",
              "    animation:\n",
              "      spin 1s steps(1) infinite;\n",
              "  }\n",
              "\n",
              "  @keyframes spin {\n",
              "    0% {\n",
              "      border-color: transparent;\n",
              "      border-bottom-color: var(--fill-color);\n",
              "      border-left-color: var(--fill-color);\n",
              "    }\n",
              "    20% {\n",
              "      border-color: transparent;\n",
              "      border-left-color: var(--fill-color);\n",
              "      border-top-color: var(--fill-color);\n",
              "    }\n",
              "    30% {\n",
              "      border-color: transparent;\n",
              "      border-left-color: var(--fill-color);\n",
              "      border-top-color: var(--fill-color);\n",
              "      border-right-color: var(--fill-color);\n",
              "    }\n",
              "    40% {\n",
              "      border-color: transparent;\n",
              "      border-right-color: var(--fill-color);\n",
              "      border-top-color: var(--fill-color);\n",
              "    }\n",
              "    60% {\n",
              "      border-color: transparent;\n",
              "      border-right-color: var(--fill-color);\n",
              "    }\n",
              "    80% {\n",
              "      border-color: transparent;\n",
              "      border-right-color: var(--fill-color);\n",
              "      border-bottom-color: var(--fill-color);\n",
              "    }\n",
              "    90% {\n",
              "      border-color: transparent;\n",
              "      border-bottom-color: var(--fill-color);\n",
              "    }\n",
              "  }\n",
              "</style>\n",
              "\n",
              "  <script>\n",
              "    async function quickchart(key) {\n",
              "      const quickchartButtonEl =\n",
              "        document.querySelector('#' + key + ' button');\n",
              "      quickchartButtonEl.disabled = true;  // To prevent multiple clicks.\n",
              "      quickchartButtonEl.classList.add('colab-df-spinner');\n",
              "      try {\n",
              "        const charts = await google.colab.kernel.invokeFunction(\n",
              "            'suggestCharts', [key], {});\n",
              "      } catch (error) {\n",
              "        console.error('Error during call to suggestCharts:', error);\n",
              "      }\n",
              "      quickchartButtonEl.classList.remove('colab-df-spinner');\n",
              "      quickchartButtonEl.classList.add('colab-df-quickchart-complete');\n",
              "    }\n",
              "    (() => {\n",
              "      let quickchartButtonEl =\n",
              "        document.querySelector('#df-1f320ed4-4b8c-4d15-a628-b48ebaf847fd button');\n",
              "      quickchartButtonEl.style.display =\n",
              "        google.colab.kernel.accessAllowed ? 'block' : 'none';\n",
              "    })();\n",
              "  </script>\n",
              "</div>\n",
              "\n",
              "    </div>\n",
              "  </div>\n"
            ]
          },
          "metadata": {},
          "execution_count": 175
        }
      ],
      "source": [
        "df.agg({'price':['mean','median','min','max']})"
      ]
    },
    {
      "cell_type": "markdown",
      "metadata": {
        "id": "fPny0QvusNwT"
      },
      "source": [
        "From the above histogram it is shown that graph is highly right skewed.To have effective observation it is necessary to have normal/gaussian distribution."
      ]
    },
    {
      "cell_type": "code",
      "execution_count": null,
      "metadata": {
        "id": "qjAwDRp-tNBT"
      },
      "outputs": [],
      "source": [
        "def remove_outliers(p):\n",
        "  q1,q3=np.percentile(df['price'],[1,98])\n",
        "\n",
        "  if p>q1 and p<q3:\n",
        "    k=p\n",
        "  else:\n",
        "    k=np.nan\n",
        "\n",
        "  return k\n",
        "\n",
        "df['price']=df['price'].apply(remove_outliers)"
      ]
    },
    {
      "cell_type": "code",
      "execution_count": null,
      "metadata": {
        "id": "AX2F9X_PzD5J"
      },
      "outputs": [],
      "source": [
        "df.dropna(subset=['price'],inplace=True)"
      ]
    },
    {
      "cell_type": "code",
      "execution_count": null,
      "metadata": {
        "id": "TKfA-aYRxC41"
      },
      "outputs": [],
      "source": [
        "sns.histplot(df['price'],kde=True)"
      ]
    },
    {
      "cell_type": "code",
      "execution_count": null,
      "metadata": {
        "id": "VYcACebM0mua"
      },
      "outputs": [],
      "source": [
        "df['price'] = pd.to_numeric(df['price'], errors='coerce')\n",
        "\n",
        "df.agg({'price':['mean','median','max','min']})"
      ]
    },
    {
      "cell_type": "code",
      "execution_count": null,
      "metadata": {
        "id": "5VvNHy2QZU2O"
      },
      "outputs": [],
      "source": [
        "sns.boxplot(df['price'])"
      ]
    },
    {
      "cell_type": "markdown",
      "metadata": {
        "id": "MqQwcPf9bHvU"
      },
      "source": [
        "All the outliers has been remove from the dataset"
      ]
    },
    {
      "cell_type": "markdown",
      "metadata": {
        "id": "1nC_jRqlZ2S5"
      },
      "source": [
        "<font size='3'>**12.number_of_reviews  :  number of reviews**</font>"
      ]
    },
    {
      "cell_type": "code",
      "execution_count": null,
      "metadata": {
        "id": "dY4MgVsXeHKa"
      },
      "outputs": [],
      "source": [
        "df['number_of_reviews']"
      ]
    },
    {
      "cell_type": "markdown",
      "metadata": {
        "id": "caQrYqC-e7Ee"
      },
      "source": [
        "<font size='3'>**13.last_review  :  latest review**</font>"
      ]
    },
    {
      "cell_type": "code",
      "execution_count": null,
      "metadata": {
        "id": "gtel2BhWfUGn"
      },
      "outputs": [],
      "source": [
        "df['last_review']"
      ]
    },
    {
      "cell_type": "markdown",
      "metadata": {
        "id": "f0KCI4T3faeV"
      },
      "source": [
        "<font size='3'>**14.reviews_per_month  :  number of reviews per month**</font>"
      ]
    },
    {
      "cell_type": "code",
      "execution_count": null,
      "metadata": {
        "id": "dn9EWaQ5f7AO"
      },
      "outputs": [],
      "source": [
        "df['reviews_per_month']"
      ]
    },
    {
      "cell_type": "markdown",
      "metadata": {
        "id": "kDTpCkeLgClk"
      },
      "source": [
        "<font size='3'>**15.calculated_host_listing_count  :  amount of listings per host**</font>"
      ]
    },
    {
      "cell_type": "code",
      "execution_count": null,
      "metadata": {
        "id": "QxM0PsFEgVB3"
      },
      "outputs": [],
      "source": [
        "df['calculated_host_listings_count']"
      ]
    },
    {
      "cell_type": "markdown",
      "metadata": {
        "id": "La2K1oMOgrMl"
      },
      "source": [
        "<font size='3'>**16.availability_365  :number of days when listing is available for booking**</font>"
      ]
    },
    {
      "cell_type": "code",
      "execution_count": null,
      "metadata": {
        "id": "YTPSBN08hE8k"
      },
      "outputs": [],
      "source": [
        "df['availability_365']"
      ]
    },
    {
      "cell_type": "markdown",
      "metadata": {
        "id": "DxKgG4x4h3YK"
      },
      "source": [
        "<font size='10'>**Data Wrangling**</font>"
      ]
    },
    {
      "cell_type": "markdown",
      "metadata": {
        "id": "ee4s6W9_iFMV"
      },
      "source": [
        "<font size='3'>As we have seen above that tere are some null and missing values in the dataset,so we have to clean the dataset fo predictive analysis.<br>\n",
        "<br>\n",
        "1.Remove NaN values from data.<br>\n",
        "2.Replace all missing values with 0.<br>\n",
        "3.Dropping columns that are not required.<br>"
      ]
    },
    {
      "cell_type": "code",
      "execution_count": null,
      "metadata": {
        "id": "tYQR6qynjk_r"
      },
      "outputs": [],
      "source": [
        "#Filling values of name and host_name columns\n",
        "df['name'].fillna('Not mention',inplace=True)"
      ]
    },
    {
      "cell_type": "code",
      "execution_count": null,
      "metadata": {
        "id": "UPfgML1pkNNM"
      },
      "outputs": [],
      "source": [
        "#drop unnecessary columns\n",
        "df=df.drop(['last_review','reviews_per_month','host_name','host_id','id'],axis=1)"
      ]
    },
    {
      "cell_type": "code",
      "execution_count": null,
      "metadata": {
        "id": "JAHL6kvWkxcn"
      },
      "outputs": [],
      "source": [
        "#checking missing element\n",
        "sns.heatmap(df.isnull(),cbar=False)"
      ]
    },
    {
      "cell_type": "markdown",
      "metadata": {
        "id": "MtJPgBKKlg96"
      },
      "source": [
        "<font size='3'>**Output of manipulation:**<br>\n",
        "1.Fill name and host_name with \"Not mention\" as these are string and can't fill with mean or median of the string.\n",
        "<br>2.Two columns are of not so much of use so they are simply drop"
      ]
    },
    {
      "cell_type": "markdown",
      "metadata": {
        "id": "R3lZilRJPUz1"
      },
      "source": [
        "<font size='10'>**Exploratory Data Analysis**</font>"
      ]
    },
    {
      "cell_type": "markdown",
      "metadata": {
        "id": "GpyJXf1EmoQd"
      },
      "source": [
        "<font size='3'>Understanding relationship between variable</font>"
      ]
    },
    {
      "cell_type": "markdown",
      "metadata": {
        "id": "SvmaLdCcnBnf"
      },
      "source": [
        "<font size='5'>**Univariate Analysis**</font><br>\n"
      ]
    },
    {
      "cell_type": "markdown",
      "metadata": {
        "id": "oVdfs2WxqT3K"
      },
      "source": [
        "<font size='5'>**Chart 1:**What is overall distribution of neighbourhood group in dataset?</font>"
      ]
    },
    {
      "cell_type": "code",
      "execution_count": null,
      "metadata": {
        "id": "1nXlBlB0PROR"
      },
      "outputs": [],
      "source": [
        "k=df['neighbourhood_group'].value_counts()\n",
        "plt.title('Distribution of neighbourhood_group ',weight='bold',fontsize=16)\n",
        "sns.countplot(data=df,x='neighbourhood_group',palette='flare',order=k.index)\n",
        "plt.show()"
      ]
    },
    {
      "cell_type": "markdown",
      "metadata": {
        "id": "lzFInQaKq73b"
      },
      "source": [
        "<font size='3'>1.Why did you pick the specific chart?<br>\n",
        "Bar chart is showing the total/overall distribution of types of neighbourhood_group listed in our Airbnb dataset.<br>\n",
        "<br>\n",
        "2.What is/are the insight(s)found from the chart?<br>\n",
        " Manhattan is the highest evaluation of dataset.<br>\n",
        "<br>\n",
        "3.Will the gained insights help creating a business impact?Are there any insights that lead to negative growth?Justify with specific reason.<br>\n",
        "Yes,We can clearly see that Manhattan has highest count in dataset.This will help the business to grow more in less explore area as it will create new market for business.<br>\n",
        "\n"
      ]
    },
    {
      "cell_type": "markdown",
      "metadata": {
        "id": "9bKi4QhXt-FR"
      },
      "source": [
        "<font size='5'>**Chart 2:**Top 20 neighbourhoods with maximum listing</font>"
      ]
    },
    {
      "cell_type": "code",
      "execution_count": null,
      "metadata": {
        "id": "BGQGmqyqPusB"
      },
      "outputs": [],
      "source": [
        "plt.title('Top 20 neighbourhood with highest listing',weight='bold',fontsize=16)\n",
        "plt.xlabel('neighbourhood_group')\n",
        "plt.ylabel('no_of_neighbourhood_group')\n",
        "k=df['neighbourhood'].value_counts()\n",
        "k=k[:20]\n",
        "sns.barplot(x=k.values,y=k.index,palette='rocket')\n",
        "plt.show()"
      ]
    },
    {
      "cell_type": "markdown",
      "metadata": {
        "id": "jvuvGI7Guv0a"
      },
      "source": [
        "<font size='3'>Why did you pick the specific chart?<br>\n",
        "There are more than 200 neighbours listed out,so to have glimpse of top 20 neighbours.<br>\n",
        "<br>What is/are insight(s) found from this chart?<br>\n",
        "Williamburg and Bedford-Stuyvesant are more popular.<br>\n",
        "<br>Will the gained insights help creating a business impact?Are there any insights that lead to negative growth?Justify with specific reason.<br>\n",
        "\n"
      ]
    },
    {
      "cell_type": "markdown",
      "metadata": {
        "id": "aBjYLAqIxeXY"
      },
      "source": [
        "<font size='5'>**Chart 3:**What is the overall distribution of room in dataset?"
      ]
    },
    {
      "cell_type": "code",
      "execution_count": null,
      "metadata": {
        "id": "pBUKJaTRV4w3"
      },
      "outputs": [],
      "source": [
        "\n",
        "room_types = df['room_type'].value_counts()\n",
        "plt.title('Distribution of room_type',weight='bold',fontsize=16)\n",
        "# Create a pie chart\n",
        "plt.pie(room_types, labels=room_types.index, colors=sns.color_palette('rocket'), autopct='%1.1f%%')\n",
        "\n",
        "plt.show()\n"
      ]
    },
    {
      "cell_type": "markdown",
      "metadata": {
        "id": "K1FLo8K6xx3Z"
      },
      "source": [
        "<font size='3'>Why did you pick the specific chart?<br>\n",
        "Pie chart is dividing a whole in different part ie there are 3 type of room .It help in show the percentage each part contain.<br>\n",
        "<br>What is/are insight(s) found from this chart?<br>\n",
        "Entire home /apt has highest share of the three<br>\n",
        "<br>Will the gained insights help creating a business impact?Are there any insights that lead to negative growth?Justify with specific reason.<br>"
      ]
    },
    {
      "cell_type": "markdown",
      "metadata": {
        "id": "BCwtCfCMhWtF"
      },
      "source": [
        "<font size='5'>**Chart 4 :**What is avg minimum nights in the neighbourhood_group?"
      ]
    },
    {
      "cell_type": "code",
      "execution_count": null,
      "metadata": {
        "id": "pdh1r12rVsV4"
      },
      "outputs": [],
      "source": [
        "#neighbourhood_group on basis of minimum_night\n",
        "k=df.groupby('neighbourhood_group')['minimum_nights'].mean().sort_values(ascending=False)\n",
        "plt.figure(figsize=(15,6))\n",
        "plt.title('Neighbourhood_group on basis of minimum_night',weight='bold',fontsize=16)\n",
        "\n",
        "sns.barplot(x=k.index,y=k.values,palette='flare')\n",
        "plt.xlabel('Location')\n",
        "plt.ylabel('avg minimum_nights')\n",
        "plt.show()"
      ]
    },
    {
      "cell_type": "markdown",
      "metadata": {
        "id": "jxUINGM4YLds"
      },
      "source": [
        "<font size='3'>Why did you pick the specific chart?<br>\n",
        "\n",
        "Bar chart is showing the total/overall distribution of types of neighbourhood_group listed in our Airbnb dataset.<br>\n",
        "<br>What is/are insight(s) found from this chart?<br>\n",
        "Manhattan has highest no of minimum night ie 8+days.<br>\n",
        "<br>Will the gained insights help creating a business impact?Are there any insights that lead to negative growth?Justify with specific reason.<br>\n",
        "Yes, it help in creating business impact as it help Airbnb to more focus on Manhattan as there are more no of avg stay as compare to other neighbour.It mean that room are book for more no of days in Manhattan leads to more revenue."
      ]
    },
    {
      "cell_type": "markdown",
      "source": [
        "<font size='5'>**Chart 5 :**What is avg minimum nights according to room_type?"
      ],
      "metadata": {
        "id": "8m4jYPhwcckq"
      }
    },
    {
      "cell_type": "code",
      "execution_count": null,
      "metadata": {
        "id": "8wPlfJmlypvL"
      },
      "outputs": [],
      "source": [
        "#room_type on basis of minimum_night\n",
        "k=df.groupby('room_type')['minimum_nights'].mean().sort_values(ascending=False)\n",
        "plt.figure(figsize=(15,6))\n",
        "plt.title('Average minimum_nights on basis of room_type',weight='bold',fontsize=16)\n",
        "plt.xlabel('Room_type')\n",
        "plt.ylabel('avg_minimum_nights')\n",
        "\n",
        "sns.barplot(x=k.index,y=k.values,palette='husl')\n",
        "plt.show()"
      ]
    },
    {
      "cell_type": "markdown",
      "source": [
        "<font size='3'>Why did you pick the specific chart?<br>\n",
        "\n",
        "Bar chart is showing the total/overall distribution of types of neighbourhood_group listed in our Airbnb dataset.<br>\n",
        "<br>What is/are insight(s) found from this chart?<br>\n",
        "Entire home/apt has highest no of minimum night ie 8+days.<br>\n",
        "<br>Will the gained insights help creating a business impact?Are there any insights that lead to negative growth?Justify with specific reason.<br>\n",
        "Yes, it help in creating business impact as it help Airbnb to more focus on entire home/apt as there are more no of avg stay as compare to other room_type.It mean that room are book for more no of days in entire home/apt leads to more revenue."
      ],
      "metadata": {
        "id": "5_Bfsaey93Q3"
      }
    },
    {
      "cell_type": "markdown",
      "metadata": {
        "id": "y0m6EBVrmFeL"
      },
      "source": [
        "<font size='5'>**Chart 6:**What is avg preferd price by customer on basis of location?"
      ]
    },
    {
      "cell_type": "code",
      "execution_count": null,
      "metadata": {
        "id": "L77YvenexTEJ"
      },
      "outputs": [],
      "source": [
        "plt.title('Distribution of price on basis of neighbourhood_group',weight='bold',fontsize=16)\n",
        "plt.xlabel('neighbourhood_group')\n",
        "plt.ylabel('price')\n",
        "sns.violinplot(data=df,y='price',x='neighbourhood_group')\n",
        "plt.show()"
      ]
    },
    {
      "cell_type": "markdown",
      "metadata": {
        "id": "9cbF7TmOYVre"
      },
      "source": [
        "<font size='3'>Why did you pick the specific chart?<br>\n",
        "A violin graph is a hybrid of box and kernel density plot which show peak in data.It is used to visualize the distribution of numerical data.<br>\n",
        "\n",
        "<br>What is/are insight(s) found from this chart?<br>\n",
        "Price of each of neighbourhood  is mostly in range 70 to 150.Above 150,it is low in density.<br>\n",
        "<br>Will the gained insights help creating a business impact?Are there any insights that lead to negative growth?Justify with specific reason.<br>\n",
        "There is more no of booking for Airbnb whose price range between 70 to 150.So in future, Airbnb price to be in range 70 to 150"
      ]
    },
    {
      "cell_type": "markdown",
      "source": [
        "<font size='5'>**Chart 7:**What is avg preferd price by customer on basis of room_type?"
      ],
      "metadata": {
        "id": "ha92NiNAc4ZH"
      }
    },
    {
      "cell_type": "code",
      "execution_count": null,
      "metadata": {
        "id": "y_uM2cwZn8mJ"
      },
      "outputs": [],
      "source": [
        "# avg price on basis of room_type\n",
        "pr=df.groupby('room_type')['price'].mean().sort_values(ascending=False)\n",
        "plt.title('Average price on basis of room_type',weight='bold',fontsize=16)\n",
        "plt.xlabel('room_type')\n",
        "plt.ylabel('price')\n",
        "sns.barplot(x=pr.index,y=pr.values,palette='rocket')\n",
        "plt.show()"
      ]
    },
    {
      "cell_type": "markdown",
      "source": [
        "<font size='3'>Why did you pick the specific chart?<br>\n",
        "Bar chart is use to show relationship between average of price v/s room_type.<br>\n",
        "<br>What is/are insight(s) found from this chart?<br>\n",
        "Price of enture home/apt is 150 while that of shared room and private room is 100.<br>\n",
        "<br>Will the gained insights help creating a business impact?Are there any insights that lead to negative growth?Justify with specific reason.<br>\n",
        "There is high demand of entire home/apt so the price of these are high.Joint family or group of friend usually prefer home as perr person cost for them would be less as compare to share or private room."
      ],
      "metadata": {
        "id": "YS8yVysNdFma"
      }
    },
    {
      "cell_type": "markdown",
      "source": [
        "<font size='5'>**Chart 8:**Which of neighbourhood_group has highest no of reviews?</font>"
      ],
      "metadata": {
        "id": "-uVT1A8CdQEM"
      }
    },
    {
      "cell_type": "code",
      "execution_count": null,
      "metadata": {
        "id": "Y8tgQXYFhha7"
      },
      "outputs": [],
      "source": [
        "# Identify the neighbourhood with the highest total number of reviews\n",
        "plt.xlabel('Location')\n",
        "plt.ylabel('No of review')\n",
        "plt.title('Location with the highest total number of reviews')\n",
        "ng=df.groupby('neighbourhood_group')['number_of_reviews'].sum()\n",
        "sns.barplot(x=ng.index,y=ng.values)\n",
        "plt.show()"
      ]
    },
    {
      "cell_type": "markdown",
      "source": [
        "<font size='3'>\n",
        "\n",
        "<br>What is/are insight(s) found from this chart?<br>\n",
        "Brooklyn has highest no of reviews even though Mnahattan has highest no of booking.this maen that people are not so much engage in giving reviews.We have to encourage people to give reviews so that we can improve our service.  \n"
      ],
      "metadata": {
        "id": "UbbW6VLQ_fKE"
      }
    },
    {
      "cell_type": "markdown",
      "source": [
        "<font size='5'>**Chart 9:**Latitude and longitude distribution of neighbourhood_group</font>"
      ],
      "metadata": {
        "id": "PotoNBEnoCqM"
      }
    },
    {
      "cell_type": "code",
      "execution_count": null,
      "metadata": {
        "id": "hHyUGSIv6h5d"
      },
      "outputs": [],
      "source": [
        "lat = sns.scatterplot(x=df['longitude'], y=df['latitude'], hue=df['neighbourhood_group'], palette=\"husl\")\n",
        "\n",
        "lat.set_title('Latitudinal and longitudinal distribution of listings across neighbours', weight='bold', fontsize = 16)\n",
        "lat.set_xlabel('Longitude')\n",
        "lat.set_ylabel('Latitude')\n",
        "lat.legend(loc='upper left', title='Neighbour')\n",
        "plt.show()"
      ]
    },
    {
      "cell_type": "markdown",
      "source": [
        "<font size='3'>Why did you pick the specific chart?<br>\n",
        "Scatter plot is use to show the distribution of longitude and latitude and help in specify the location of different neighbour  in graph.\n",
        "<br>What is/are insight(s) found from this chart?<br>\n",
        "Most of the Airbnb lie in -74to-73.9 longitude ie Manhattan and Brooklyn.\n"
      ],
      "metadata": {
        "id": "shCvPvjtduA6"
      }
    },
    {
      "cell_type": "markdown",
      "source": [
        "<font size='5'>**Chart 10:**Latitude and longitude distribution on basis of room_type</font>"
      ],
      "metadata": {
        "id": "vCWhsIRwof5G"
      }
    },
    {
      "cell_type": "code",
      "execution_count": null,
      "metadata": {
        "id": "cAdfkr4XBnyU"
      },
      "outputs": [],
      "source": [
        "rm = sns.scatterplot(x=df.longitude, y=df.latitude, hue=df.room_type, palette=\"husl\")\n",
        "rm.set_title('Room type distribution across latitude and longitudes', weight='bold', fontsize = 16)\n",
        "rm.legend(loc='upper left', title='Room type')\n",
        "plt.show()"
      ]
    },
    {
      "cell_type": "markdown",
      "source": [
        "<font size='3'>\n",
        "\n",
        "<br>What is/are insight(s) found from this chart?<br>\n",
        "Entire scatterplot is wih green color ie entire home/apt are more in no then private or share room.<br>\n"
      ],
      "metadata": {
        "id": "FHr29FxPdwlc"
      }
    },
    {
      "cell_type": "markdown",
      "source": [
        "<font size='5'>**Chart 11:**Corelation between differnt feature of dataset.</font>"
      ],
      "metadata": {
        "id": "1qrQzKsYrAf4"
      }
    },
    {
      "cell_type": "code",
      "execution_count": null,
      "metadata": {
        "id": "Ahl1bRLRaaKh"
      },
      "outputs": [],
      "source": [
        "#corelation  between differnt column of dataset\n",
        "sns.heatmap(data=df.corr(),annot=True)"
      ]
    },
    {
      "cell_type": "markdown",
      "source": [
        "<font size='3'>Why did you pick the specific chart?<br>\n",
        "Heat map is use to find corelation between all feature of dataset.<br>\n",
        "From the above heatmap it is shown that longitude and price are negetively correlated while latitude and price are positively corelated.Price is slightly corealted with the numner_of_reviews.\n",
        "\n",
        "\n"
      ],
      "metadata": {
        "id": "EPMWJL6xydUy"
      }
    },
    {
      "cell_type": "markdown",
      "metadata": {
        "id": "CLt1n4e6IrWO"
      },
      "source": [
        "<font size='5'> Manhattan is targetted area . We have to further study to get business perspective."
      ]
    },
    {
      "cell_type": "markdown",
      "source": [
        "<font size='5'>**Chart 14:**Distribution of room_type in Manhattan</font>"
      ],
      "metadata": {
        "id": "p0Dx1YOdrES6"
      }
    },
    {
      "cell_type": "code",
      "execution_count": null,
      "metadata": {
        "id": "-Lkniyt-IqhK"
      },
      "outputs": [],
      "source": [
        "df1=df[df['neighbourhood_group']=='Manhattan']# df1 is new dataframe which has only Manhattan as a neighbourhood_group\n",
        "sns.scatterplot(data=df1,x='longitude',y='latitude',hue='room_type')\n",
        "plt.show()"
      ]
    },
    {
      "cell_type": "markdown",
      "source": [
        "<font size='3'>Why did you pick the specific chart?<br>\n",
        "Scatter plot is use to express the spread of latitude and longitude of Manhattan.<br>\n",
        "<br>What is/are insight(s) found from this chart?<br>\n",
        "From the above graph,it is shown that entire home/apt are uniformly spread in Manhattan and shared room are too less in number.There are more private room between -73.92 to -73.94 longitude as compare to rest of the region.<br>\n"
      ],
      "metadata": {
        "id": "xDvl1UwPd9wO"
      }
    },
    {
      "cell_type": "markdown",
      "source": [
        "<font size='5'>**Chart 15:**Distribution of Airbnb in Manhattan</font>"
      ],
      "metadata": {
        "id": "A7sMSs4drIMs"
      }
    },
    {
      "cell_type": "code",
      "execution_count": null,
      "metadata": {
        "id": "-jZl2QDjKanG"
      },
      "outputs": [],
      "source": [
        "#neighbourhood area\n",
        "sns.countplot(data=df1,y='neighbourhood')\n",
        "plt.show()"
      ]
    },
    {
      "cell_type": "markdown",
      "source": [
        "<font size='3'>Why did you pick the specific chart?<br>\n",
        "Bar chart is use to compare distribution of Airbnb in Manhattan.<br>\n",
        "<br>What is/are insight(s) found from this chart?<br>\n",
        "Harlem has highest no of Airbnb while Marble Hill has least.<br>\n",
        "<br>Will the gained insights help creating a business impact?Are there any insights that lead to negative growth?Justify with specific reason.<br>\n",
        "There should be more attention given to Hell Kitchen,Upper West Side as they are the upcoming future of Manhattan."
      ],
      "metadata": {
        "id": "blnqffzpeAMG"
      }
    },
    {
      "cell_type": "markdown",
      "source": [
        "<font size='5'>**Chart 16:**Price range distribution on basis of room_type in Manhattan.</font>"
      ],
      "metadata": {
        "id": "yqNltcqirMRI"
      }
    },
    {
      "cell_type": "code",
      "execution_count": null,
      "metadata": {
        "id": "rvtuj7ccK571"
      },
      "outputs": [],
      "source": [
        "#price distribution in Manhatttan on basis of room_type\n",
        "sns.boxplot(data=df1,x='room_type',y='price',palette='rocket')\n",
        "plt.show()"
      ]
    },
    {
      "cell_type": "markdown",
      "source": [
        "<font size='3'>Why did you pick the specific chart?<br>\n",
        "Box plot is use to show the price range in room_type of Manhattan.<br>\n",
        "\n",
        "<br>What is/are insight(s) found from this chart?<br>\n",
        "Entire home/apt has price range 125 to 250 while shared room has price range of 75 to 125.<br>\n",
        "<br>Will the gained insights help creating a business impact?Are there any insights that lead to negative growth?Justify with specific reason.<br>\n",
        "Even though price of entire home/apt is much high than share room but alse people prefer it as it give them personal space and in case of joint family person person cost has also less.So its advice to have entire home/apt more in number."
      ],
      "metadata": {
        "id": "5yxWWmKaeCYf"
      }
    },
    {
      "cell_type": "markdown",
      "source": [
        "<font size='5'>**Chart 17:**Minimum night spend in neighbourhood of Manhattan</font>"
      ],
      "metadata": {
        "id": "IunPBzInrQwb"
      }
    },
    {
      "cell_type": "code",
      "execution_count": null,
      "metadata": {
        "id": "_j1l4gCC1XbX"
      },
      "outputs": [],
      "source": [
        "#Calculate the average minimum nights spent by summing the duration of each booking in each location of Manhattan\n",
        "df1.groupby('neighbourhood')['minimum_nights'].mean()\n",
        "plt.xticks(rotation=90)\n",
        "k=sns.barplot(data=df1,y='minimum_nights',x='neighbourhood')\n"
      ]
    },
    {
      "cell_type": "markdown",
      "source": [
        "<font size='3'>Why did you pick the specific chart?<br>\n",
        "Bar chart is use to compare numerical value of average minimum night in neighbourhood of Manhattan.<br>\n",
        "<br>What is/are insight(s) found from this chart?<br>\n",
        "Murray Hill has highest minimum nights while Marble hill has lowest minimum nights.Harlem has highest no of Airbnb but minimum night stay is approx 7. <br>\n",
        "\n",
        "<br>Will the gained insights help creating a business impact?Are there any insights that lead to negative growth?Justify with specific reason.<br>\n",
        "In Mahanttan,occupancy of Airbnb is not uniformly distributed ie.some place occupancy is as high as 17 minimum nights while some has occupancy as low as 2 minimum nights."
      ],
      "metadata": {
        "id": "WIADRYXVeFYb"
      }
    },
    {
      "cell_type": "markdown",
      "source": [
        "#Conclusion</br>\n",
        "The exploratory data analysis (EDA) on Airbnb bookings provides valuable insights that can contribute to business growth and strategic decision-making. Here are some potential business growth opportunities based on the findings:\n",
        "</br>\n",
        "</br>\n",
        "**Optimizing Property Listings:**\n",
        "\n",
        "Identify the most common types of properties listed by hosts on Airbnb.\n",
        "Use this information to optimize the platform by promoting or featuring popular property types.\n",
        "Provide incentives or guidance for hosts to list properties that align with the most common preferences.</br></br>\n",
        "**Strategic Area Expansion:**\n",
        "\n",
        "Determine which neighborhoods or areas attract the highest number of bookings and guest interest.\n",
        "Consider strategic expansion plans or marketing campaigns in these high-demand areas.\n",
        "Collaborate with hosts in popular neighborhoods to enhance the overall Airbnb experience in those locations.</br></br>\n",
        "**Leveraging High-Traffic Areas:**\n",
        "\n",
        "Analyze areas with the maximum traffic to understand their popularity.\n",
        "Strategically leverage these high-traffic areas for targeted marketing campaigns and business growth.\n",
        "Consider partnerships or promotions to attract more guests to these locations.</br></br>\n",
        "**Optimizing Pricing Strategies:**\n",
        "\n",
        "Determine the ideal pricing range for different room types and locations based on customer preferences.\n",
        "Implement dynamic pricing strategies that align with market demand and customer expectations.\n",
        "Provide recommendations or tools for hosts to optimize their pricing for better competitiveness.</br>\n",
        "</br>\n",
        "**Recognizing Top-Performing Hosts:**\n",
        "\n",
        "Identify hosts whose properties receive the most reviews and positive ratings.\n",
        "Develop a recognition program or provide extra benefits to top-performing hosts to encourage their continued success.\n",
        "Showcase these hosts on the platform to build trust and attract more guests.</br>\n",
        "</br>\n",
        "**Improving User Experience:**\n",
        "\n",
        "Consider user experience enhancements based on geographical distribution and property types.\n",
        "Implement features that cater to the preferences of users in specific areas or those looking for particular property types.\n",
        "Continuously gather user feedback to make informed platform improvements.\n",
        "Market Expansion and Diversification:\n",
        "\n",
        "Explore opportunities for market expansion into new neighborhoods or regions.\n",
        "Diversify property offerings to cater to a broader range of traveler preferences.\n",
        "Consider entering untapped markets or regions with growth potential.</br>\n",
        "</br>\n",
        "**Data-Driven Decision-Making:**\n",
        "\n",
        "Encourage data-driven decision-making within the company based on the EDA findings.\n",
        "Incorporate insights into strategic planning sessions to align business goals with market trends.\n",
        "Continuously monitor and analyze data for adaptive strategies in a dynamic market."
      ],
      "metadata": {
        "id": "7NfDc3d6ff6J"
      }
    }
  ],
  "metadata": {
    "colab": {
      "provenance": [],
      "authorship_tag": "ABX9TyPr/TXA+fvi2Wc3Y665MWbU",
      "include_colab_link": true
    },
    "kernelspec": {
      "display_name": "Python 3",
      "name": "python3"
    },
    "language_info": {
      "name": "python"
    }
  },
  "nbformat": 4,
  "nbformat_minor": 0
}